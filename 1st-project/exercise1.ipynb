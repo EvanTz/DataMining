{
 "cells": [
  {
   "cell_type": "markdown",
   "id": "8c99b974-8bf3-411f-b50d-309ac3bd40d5",
   "metadata": {},
   "source": [
    "## Reservoir sampling K samples uniformly  over a stream of N samples\n",
    "\n",
    "### 1.Algorithm description:\n",
    "Ο αλγόριθμος κρατάει στη μνήμη χώρο για ένα πίνακα μεγέθους Κ όπου μπαίνουν τα επιλεγμένα στοιχεία, καθώς και έναν άυξοντα μετρητή-δείκτη με το πόσα αντικείμενα έχει δει κάποια στιγμή. Τα Κ πρώτα στοιχεία καταλαμβάνουν τον πίνακα επιλεγμένων στοιχείων, ακολουθώντας τη πιθανότητα Κ/Ν = 1 για κάθε παράδειγμα,(1ο παράδειγμα: Κ=1,Ν=1, 1ο παράδειγμα: Κ=2,Ν=2, κοκ). *Γραμμές 10-11 στο κώδικα*\n",
    "\n",
    "Στη συνέχεια για κάθε παράδειγμα με δείκτη i που εμφανίζεται παράγεται ένας τυχαίος αριθμός j απο 1 έως τον τρέχον μετρητή i. Αν το j είναι μικρότερο ή ίσο του Κ, αλλάζει το στοιχείο στο δείκτη j του πίνακα επιλεγμένων με πιθανότητα K/i για το τρέχον στοιχείο. Παρομοίως για το επόμενο στοιχείο που εμφανίζεται, κ.ο.κ. μέχρι τα N στοιχεία.  *Γραμμές 14-17 στο κώδικα*\n",
    "\n",
    "### 2. Proof that the probability to select a sample  is K/N:\n",
    "Με βάση τις διαφάνειες The Data Mining Pipeline στη σελίδα 57 για επιλογή 1 στοιχείου υπολογίζεται η πιθανότητα.\n",
    "\n",
    "Η πιθανότητα να επιλεχθεί το i-οστό στοιχείο εδώ είναι $\\frac{K}{i}$ , όπως δείχτηκε παραπάνω.\n",
    "\n",
    "Η πιθανότητα να επιβιώσει το επιλεγμένο i-οστό στοιχείο μέχρι τα Ν στοιχεία, δηλαδή Ν-i φορές είναι:\n",
    "$$ \\frac{K}{i}(1 - \\frac{1}{i+1})(1 - \\frac{1}{i+2})...(1 - \\frac{1}{i+N}) = \\frac{K}{N} $$\n",
    "\n",
    "\n"
   ]
  },
  {
   "cell_type": "code",
   "execution_count": 1,
   "id": "e5434cac-dc78-478a-bff8-2435f0a14245",
   "metadata": {},
   "outputs": [],
   "source": [
    "import random\n",
    "\n",
    "def sample(file, k):\n",
    "    file = open(file,'r')\n",
    "    counter = 0\n",
    "    selected = []\n",
    "    for line in file:\n",
    "        \n",
    "        # fill the selected list with the first k values that come\n",
    "        if (counter < k):\n",
    "            selected.append(line[:-1])\n",
    "\n",
    "        # select the i-th line with probabilty k/counter \n",
    "        else:\n",
    "            j = random.randint(1,counter)\n",
    "            if j <= k:\n",
    "                selected[j-1] = line[:-1]\n",
    "                \n",
    "        counter +=1     \n",
    "    \n",
    "    return selected"
   ]
  },
  {
   "cell_type": "code",
   "execution_count": 4,
   "id": "530bc443-558f-4159-a0ba-14fd3b0d104e",
   "metadata": {},
   "outputs": [
    {
     "name": "stdout",
     "output_type": "stream",
     "text": [
      "['Jordan Bell', 'Hedo Turkoglu', 'Elliot Williams', 'Georges Niang', 'Jason Kapono', 'Damion James', 'Jordan Crawford', 'Carmelo Anthony', 'Marquis Daniels', 'Wilson Chandler']\n"
     ]
    }
   ],
   "source": [
    "result = sample('input.txt',10)\n",
    "print(result)"
   ]
  },
  {
   "cell_type": "code",
   "execution_count": null,
   "id": "ea84e50c-f50f-4a61-8732-ef2988ec6647",
   "metadata": {},
   "outputs": [],
   "source": []
  }
 ],
 "metadata": {
  "kernelspec": {
   "display_name": "Python 3",
   "language": "python",
   "name": "python3"
  },
  "language_info": {
   "codemirror_mode": {
    "name": "ipython",
    "version": 3
   },
   "file_extension": ".py",
   "mimetype": "text/x-python",
   "name": "python",
   "nbconvert_exporter": "python",
   "pygments_lexer": "ipython3",
   "version": "3.8.8"
  }
 },
 "nbformat": 4,
 "nbformat_minor": 5
}
