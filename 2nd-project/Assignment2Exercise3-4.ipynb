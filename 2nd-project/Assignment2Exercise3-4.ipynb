{
 "cells": [
  {
   "cell_type": "markdown",
   "id": "8e630b39-e0f3-419c-8523-c3768bb0efd3",
   "metadata": {},
   "source": [
    "### Τζώρτζης Ευάγγελος ΑΜ: 3088"
   ]
  },
  {
   "cell_type": "markdown",
   "id": "28d50598-fab2-4c58-92fe-7a40ca1c9759",
   "metadata": {},
   "source": [
    "## Ερώτηση 3"
   ]
  },
  {
   "cell_type": "code",
   "execution_count": 1,
   "id": "5ce55d2c-fb07-459a-b1a9-7741ea281090",
   "metadata": {},
   "outputs": [],
   "source": [
    "import numpy as np\n",
    "import scipy as sp\n",
    "import pandas as pd\n",
    "from matplotlib import pyplot as plt\n",
    "import seaborn as sns\n",
    "%matplotlib inline"
   ]
  },
  {
   "cell_type": "code",
   "execution_count": 2,
   "id": "6311a061-7a57-46fa-8cda-027aec6f7e87",
   "metadata": {},
   "outputs": [],
   "source": [
    "import sklearn as sk\n",
    "from sklearn.utils import shuffle"
   ]
  },
  {
   "cell_type": "markdown",
   "id": "2f8054be-f051-423d-905c-d6079f4ebbcf",
   "metadata": {},
   "source": [
    "### Βήμα 1"
   ]
  },
  {
   "cell_type": "code",
   "execution_count": 3,
   "id": "facb8337-8e5f-4209-a8bd-f1e8f6b551be",
   "metadata": {},
   "outputs": [
    {
     "data": {
      "text/html": [
       "<div>\n",
       "<style scoped>\n",
       "    .dataframe tbody tr th:only-of-type {\n",
       "        vertical-align: middle;\n",
       "    }\n",
       "\n",
       "    .dataframe tbody tr th {\n",
       "        vertical-align: top;\n",
       "    }\n",
       "\n",
       "    .dataframe thead th {\n",
       "        text-align: right;\n",
       "    }\n",
       "</style>\n",
       "<table border=\"1\" class=\"dataframe\">\n",
       "  <thead>\n",
       "    <tr style=\"text-align: right;\">\n",
       "      <th></th>\n",
       "      <th>joke_text</th>\n",
       "    </tr>\n",
       "    <tr>\n",
       "      <th>joke_id</th>\n",
       "      <th></th>\n",
       "    </tr>\n",
       "  </thead>\n",
       "  <tbody>\n",
       "    <tr>\n",
       "      <th>0</th>\n",
       "      <td>Q. What's O. J. Simpson's web address? A. Slas...</td>\n",
       "    </tr>\n",
       "    <tr>\n",
       "      <th>1</th>\n",
       "      <td>How many feminists does it take to screw in a ...</td>\n",
       "    </tr>\n",
       "    <tr>\n",
       "      <th>2</th>\n",
       "      <td>Q. Did you hear about the dyslexic devil worsh...</td>\n",
       "    </tr>\n",
       "    <tr>\n",
       "      <th>3</th>\n",
       "      <td>They asked the Japanese visitor if they have e...</td>\n",
       "    </tr>\n",
       "    <tr>\n",
       "      <th>4</th>\n",
       "      <td>Q: What did the blind person say when given so...</td>\n",
       "    </tr>\n",
       "  </tbody>\n",
       "</table>\n",
       "</div>"
      ],
      "text/plain": [
       "                                                 joke_text\n",
       "joke_id                                                   \n",
       "0        Q. What's O. J. Simpson's web address? A. Slas...\n",
       "1        How many feminists does it take to screw in a ...\n",
       "2        Q. Did you hear about the dyslexic devil worsh...\n",
       "3        They asked the Japanese visitor if they have e...\n",
       "4        Q: What did the blind person say when given so..."
      ]
     },
     "execution_count": 3,
     "metadata": {},
     "output_type": "execute_result"
    }
   ],
   "source": [
    "jokes_df = pd.read_csv('jokes.csv')\n",
    "jokes_df.set_index('joke_id',inplace=True)\n",
    "jokes_df.index -= 1\n",
    "jokes_df.head()"
   ]
  },
  {
   "cell_type": "code",
   "execution_count": 4,
   "id": "74a56068-1a29-4dbc-9488-9787c819ffff",
   "metadata": {},
   "outputs": [
    {
     "data": {
      "text/html": [
       "<div>\n",
       "<style scoped>\n",
       "    .dataframe tbody tr th:only-of-type {\n",
       "        vertical-align: middle;\n",
       "    }\n",
       "\n",
       "    .dataframe tbody tr th {\n",
       "        vertical-align: top;\n",
       "    }\n",
       "\n",
       "    .dataframe thead th {\n",
       "        text-align: right;\n",
       "    }\n",
       "</style>\n",
       "<table border=\"1\" class=\"dataframe\">\n",
       "  <thead>\n",
       "    <tr style=\"text-align: right;\">\n",
       "      <th></th>\n",
       "      <th>id</th>\n",
       "      <th>user_id</th>\n",
       "      <th>joke_id</th>\n",
       "      <th>Rating</th>\n",
       "    </tr>\n",
       "  </thead>\n",
       "  <tbody>\n",
       "    <tr>\n",
       "      <th>0</th>\n",
       "      <td>31030_110</td>\n",
       "      <td>31030</td>\n",
       "      <td>110</td>\n",
       "      <td>2.750</td>\n",
       "    </tr>\n",
       "    <tr>\n",
       "      <th>1</th>\n",
       "      <td>16144_109</td>\n",
       "      <td>16144</td>\n",
       "      <td>109</td>\n",
       "      <td>5.094</td>\n",
       "    </tr>\n",
       "    <tr>\n",
       "      <th>2</th>\n",
       "      <td>23098_6</td>\n",
       "      <td>23098</td>\n",
       "      <td>6</td>\n",
       "      <td>-6.438</td>\n",
       "    </tr>\n",
       "    <tr>\n",
       "      <th>3</th>\n",
       "      <td>14273_86</td>\n",
       "      <td>14273</td>\n",
       "      <td>86</td>\n",
       "      <td>4.406</td>\n",
       "    </tr>\n",
       "    <tr>\n",
       "      <th>4</th>\n",
       "      <td>18419_134</td>\n",
       "      <td>18419</td>\n",
       "      <td>134</td>\n",
       "      <td>9.375</td>\n",
       "    </tr>\n",
       "  </tbody>\n",
       "</table>\n",
       "</div>"
      ],
      "text/plain": [
       "          id  user_id  joke_id  Rating\n",
       "0  31030_110    31030      110   2.750\n",
       "1  16144_109    16144      109   5.094\n",
       "2    23098_6    23098        6  -6.438\n",
       "3   14273_86    14273       86   4.406\n",
       "4  18419_134    18419      134   9.375"
      ]
     },
     "execution_count": 4,
     "metadata": {},
     "output_type": "execute_result"
    }
   ],
   "source": [
    "train_df = pd.read_csv('train.csv')\n",
    "#train_df.set_index('id',inplace=True)\n",
    "train_df.head()"
   ]
  },
  {
   "cell_type": "code",
   "execution_count": 5,
   "id": "2e92100c-bf84-4345-9f85-d4024df9d144",
   "metadata": {},
   "outputs": [
    {
     "data": {
      "text/html": [
       "<div>\n",
       "<style scoped>\n",
       "    .dataframe tbody tr th:only-of-type {\n",
       "        vertical-align: middle;\n",
       "    }\n",
       "\n",
       "    .dataframe tbody tr th {\n",
       "        vertical-align: top;\n",
       "    }\n",
       "\n",
       "    .dataframe thead th {\n",
       "        text-align: right;\n",
       "    }\n",
       "</style>\n",
       "<table border=\"1\" class=\"dataframe\">\n",
       "  <thead>\n",
       "    <tr style=\"text-align: right;\">\n",
       "      <th></th>\n",
       "      <th>id</th>\n",
       "      <th>user_id</th>\n",
       "      <th>joke_id</th>\n",
       "      <th>Rating</th>\n",
       "    </tr>\n",
       "  </thead>\n",
       "  <tbody>\n",
       "    <tr>\n",
       "      <th>0</th>\n",
       "      <td>31030_110</td>\n",
       "      <td>31029</td>\n",
       "      <td>109</td>\n",
       "      <td>2.750</td>\n",
       "    </tr>\n",
       "    <tr>\n",
       "      <th>1</th>\n",
       "      <td>16144_109</td>\n",
       "      <td>16143</td>\n",
       "      <td>108</td>\n",
       "      <td>5.094</td>\n",
       "    </tr>\n",
       "    <tr>\n",
       "      <th>2</th>\n",
       "      <td>23098_6</td>\n",
       "      <td>23097</td>\n",
       "      <td>5</td>\n",
       "      <td>-6.438</td>\n",
       "    </tr>\n",
       "    <tr>\n",
       "      <th>3</th>\n",
       "      <td>14273_86</td>\n",
       "      <td>14272</td>\n",
       "      <td>85</td>\n",
       "      <td>4.406</td>\n",
       "    </tr>\n",
       "    <tr>\n",
       "      <th>4</th>\n",
       "      <td>18419_134</td>\n",
       "      <td>18418</td>\n",
       "      <td>133</td>\n",
       "      <td>9.375</td>\n",
       "    </tr>\n",
       "  </tbody>\n",
       "</table>\n",
       "</div>"
      ],
      "text/plain": [
       "          id  user_id  joke_id  Rating\n",
       "0  31030_110    31029      109   2.750\n",
       "1  16144_109    16143      108   5.094\n",
       "2    23098_6    23097        5  -6.438\n",
       "3   14273_86    14272       85   4.406\n",
       "4  18419_134    18418      133   9.375"
      ]
     },
     "execution_count": 5,
     "metadata": {},
     "output_type": "execute_result"
    }
   ],
   "source": [
    "train_df['user_id'] -= 1\n",
    "train_df['joke_id'] -= 1\n",
    "train_df.head()"
   ]
  },
  {
   "cell_type": "code",
   "execution_count": 6,
   "id": "6c0be80d-be4a-4704-8127-800319bed1f5",
   "metadata": {},
   "outputs": [],
   "source": [
    "sh_df = shuffle(train_df,random_state=2021)"
   ]
  },
  {
   "cell_type": "code",
   "execution_count": 7,
   "id": "62594380-381b-45b9-854c-6bc7c1c04ec4",
   "metadata": {},
   "outputs": [
    {
     "name": "stdout",
     "output_type": "stream",
     "text": [
      "<class 'pandas.core.frame.DataFrame'>\n",
      "Int64Index: 1092059 entries, 948837 to 91252\n",
      "Data columns (total 4 columns):\n",
      " #   Column   Non-Null Count    Dtype  \n",
      "---  ------   --------------    -----  \n",
      " 0   id       1092059 non-null  object \n",
      " 1   user_id  1092059 non-null  int64  \n",
      " 2   joke_id  1092059 non-null  int64  \n",
      " 3   Rating   1092059 non-null  float64\n",
      "dtypes: float64(1), int64(2), object(1)\n",
      "memory usage: 41.7+ MB\n"
     ]
    }
   ],
   "source": [
    "sh_df.info()"
   ]
  },
  {
   "cell_type": "code",
   "execution_count": 8,
   "id": "4628e0dd-9c0f-4abc-accc-9e9b83814e04",
   "metadata": {},
   "outputs": [
    {
     "data": {
      "text/html": [
       "<div>\n",
       "<style scoped>\n",
       "    .dataframe tbody tr th:only-of-type {\n",
       "        vertical-align: middle;\n",
       "    }\n",
       "\n",
       "    .dataframe tbody tr th {\n",
       "        vertical-align: top;\n",
       "    }\n",
       "\n",
       "    .dataframe thead th {\n",
       "        text-align: right;\n",
       "    }\n",
       "</style>\n",
       "<table border=\"1\" class=\"dataframe\">\n",
       "  <thead>\n",
       "    <tr style=\"text-align: right;\">\n",
       "      <th></th>\n",
       "      <th>id</th>\n",
       "      <th>user_id</th>\n",
       "      <th>joke_id</th>\n",
       "      <th>Rating</th>\n",
       "    </tr>\n",
       "  </thead>\n",
       "  <tbody>\n",
       "    <tr>\n",
       "      <th>948837</th>\n",
       "      <td>39893_22</td>\n",
       "      <td>39892</td>\n",
       "      <td>21</td>\n",
       "      <td>-0.281</td>\n",
       "    </tr>\n",
       "    <tr>\n",
       "      <th>502194</th>\n",
       "      <td>25778_7</td>\n",
       "      <td>25777</td>\n",
       "      <td>6</td>\n",
       "      <td>-7.031</td>\n",
       "    </tr>\n",
       "    <tr>\n",
       "      <th>727692</th>\n",
       "      <td>24147_76</td>\n",
       "      <td>24146</td>\n",
       "      <td>75</td>\n",
       "      <td>5.750</td>\n",
       "    </tr>\n",
       "    <tr>\n",
       "      <th>155191</th>\n",
       "      <td>4374_9</td>\n",
       "      <td>4373</td>\n",
       "      <td>8</td>\n",
       "      <td>-4.125</td>\n",
       "    </tr>\n",
       "    <tr>\n",
       "      <th>897456</th>\n",
       "      <td>18377_120</td>\n",
       "      <td>18376</td>\n",
       "      <td>119</td>\n",
       "      <td>-2.500</td>\n",
       "    </tr>\n",
       "    <tr>\n",
       "      <th>...</th>\n",
       "      <td>...</td>\n",
       "      <td>...</td>\n",
       "      <td>...</td>\n",
       "      <td>...</td>\n",
       "    </tr>\n",
       "    <tr>\n",
       "      <th>588150</th>\n",
       "      <td>24968_123</td>\n",
       "      <td>24967</td>\n",
       "      <td>122</td>\n",
       "      <td>4.312</td>\n",
       "    </tr>\n",
       "    <tr>\n",
       "      <th>376437</th>\n",
       "      <td>27371_3</td>\n",
       "      <td>27370</td>\n",
       "      <td>2</td>\n",
       "      <td>-4.188</td>\n",
       "    </tr>\n",
       "    <tr>\n",
       "      <th>393810</th>\n",
       "      <td>23050_50</td>\n",
       "      <td>23049</td>\n",
       "      <td>49</td>\n",
       "      <td>-0.969</td>\n",
       "    </tr>\n",
       "    <tr>\n",
       "      <th>97076</th>\n",
       "      <td>247_9</td>\n",
       "      <td>246</td>\n",
       "      <td>8</td>\n",
       "      <td>6.312</td>\n",
       "    </tr>\n",
       "    <tr>\n",
       "      <th>301838</th>\n",
       "      <td>22218_73</td>\n",
       "      <td>22217</td>\n",
       "      <td>72</td>\n",
       "      <td>2.688</td>\n",
       "    </tr>\n",
       "  </tbody>\n",
       "</table>\n",
       "<p>10000 rows × 4 columns</p>\n",
       "</div>"
      ],
      "text/plain": [
       "               id  user_id  joke_id  Rating\n",
       "948837   39893_22    39892       21  -0.281\n",
       "502194    25778_7    25777        6  -7.031\n",
       "727692   24147_76    24146       75   5.750\n",
       "155191     4374_9     4373        8  -4.125\n",
       "897456  18377_120    18376      119  -2.500\n",
       "...           ...      ...      ...     ...\n",
       "588150  24968_123    24967      122   4.312\n",
       "376437    27371_3    27370        2  -4.188\n",
       "393810   23050_50    23049       49  -0.969\n",
       "97076       247_9      246        8   6.312\n",
       "301838   22218_73    22217       72   2.688\n",
       "\n",
       "[10000 rows x 4 columns]"
      ]
     },
     "execution_count": 8,
     "metadata": {},
     "output_type": "execute_result"
    }
   ],
   "source": [
    "testdata = sh_df.head(10000)\n",
    "testdata"
   ]
  },
  {
   "cell_type": "code",
   "execution_count": 9,
   "id": "76bd6f16-c9d2-45ee-a2b4-15c0413bd4c7",
   "metadata": {},
   "outputs": [
    {
     "data": {
      "text/html": [
       "<div>\n",
       "<style scoped>\n",
       "    .dataframe tbody tr th:only-of-type {\n",
       "        vertical-align: middle;\n",
       "    }\n",
       "\n",
       "    .dataframe tbody tr th {\n",
       "        vertical-align: top;\n",
       "    }\n",
       "\n",
       "    .dataframe thead th {\n",
       "        text-align: right;\n",
       "    }\n",
       "</style>\n",
       "<table border=\"1\" class=\"dataframe\">\n",
       "  <thead>\n",
       "    <tr style=\"text-align: right;\">\n",
       "      <th></th>\n",
       "      <th>id</th>\n",
       "      <th>user_id</th>\n",
       "      <th>joke_id</th>\n",
       "      <th>Rating</th>\n",
       "    </tr>\n",
       "  </thead>\n",
       "  <tbody>\n",
       "    <tr>\n",
       "      <th>478625</th>\n",
       "      <td>36393_109</td>\n",
       "      <td>36392</td>\n",
       "      <td>108</td>\n",
       "      <td>-1.438</td>\n",
       "    </tr>\n",
       "    <tr>\n",
       "      <th>1026352</th>\n",
       "      <td>16154_7</td>\n",
       "      <td>16153</td>\n",
       "      <td>6</td>\n",
       "      <td>-4.750</td>\n",
       "    </tr>\n",
       "    <tr>\n",
       "      <th>714547</th>\n",
       "      <td>38887_112</td>\n",
       "      <td>38886</td>\n",
       "      <td>111</td>\n",
       "      <td>2.250</td>\n",
       "    </tr>\n",
       "    <tr>\n",
       "      <th>940880</th>\n",
       "      <td>11008_14</td>\n",
       "      <td>11007</td>\n",
       "      <td>13</td>\n",
       "      <td>-3.969</td>\n",
       "    </tr>\n",
       "    <tr>\n",
       "      <th>674926</th>\n",
       "      <td>13037_107</td>\n",
       "      <td>13036</td>\n",
       "      <td>106</td>\n",
       "      <td>3.688</td>\n",
       "    </tr>\n",
       "    <tr>\n",
       "      <th>...</th>\n",
       "      <td>...</td>\n",
       "      <td>...</td>\n",
       "      <td>...</td>\n",
       "      <td>...</td>\n",
       "    </tr>\n",
       "    <tr>\n",
       "      <th>742911</th>\n",
       "      <td>20386_5</td>\n",
       "      <td>20385</td>\n",
       "      <td>4</td>\n",
       "      <td>4.281</td>\n",
       "    </tr>\n",
       "    <tr>\n",
       "      <th>743382</th>\n",
       "      <td>17244_138</td>\n",
       "      <td>17243</td>\n",
       "      <td>137</td>\n",
       "      <td>5.906</td>\n",
       "    </tr>\n",
       "    <tr>\n",
       "      <th>675678</th>\n",
       "      <td>37362_32</td>\n",
       "      <td>37361</td>\n",
       "      <td>31</td>\n",
       "      <td>0.062</td>\n",
       "    </tr>\n",
       "    <tr>\n",
       "      <th>224597</th>\n",
       "      <td>2760_86</td>\n",
       "      <td>2759</td>\n",
       "      <td>85</td>\n",
       "      <td>7.156</td>\n",
       "    </tr>\n",
       "    <tr>\n",
       "      <th>91252</th>\n",
       "      <td>20187_100</td>\n",
       "      <td>20186</td>\n",
       "      <td>99</td>\n",
       "      <td>6.719</td>\n",
       "    </tr>\n",
       "  </tbody>\n",
       "</table>\n",
       "<p>1082059 rows × 4 columns</p>\n",
       "</div>"
      ],
      "text/plain": [
       "                id  user_id  joke_id  Rating\n",
       "478625   36393_109    36392      108  -1.438\n",
       "1026352    16154_7    16153        6  -4.750\n",
       "714547   38887_112    38886      111   2.250\n",
       "940880    11008_14    11007       13  -3.969\n",
       "674926   13037_107    13036      106   3.688\n",
       "...            ...      ...      ...     ...\n",
       "742911     20386_5    20385        4   4.281\n",
       "743382   17244_138    17243      137   5.906\n",
       "675678    37362_32    37361       31   0.062\n",
       "224597     2760_86     2759       85   7.156\n",
       "91252    20187_100    20186       99   6.719\n",
       "\n",
       "[1082059 rows x 4 columns]"
      ]
     },
     "execution_count": 9,
     "metadata": {},
     "output_type": "execute_result"
    }
   ],
   "source": [
    "traindata = pd.concat([sh_df,testdata]).drop_duplicates(keep=False)\n",
    "traindata"
   ]
  },
  {
   "cell_type": "code",
   "execution_count": 10,
   "id": "b84f262f-dba5-4814-b837-f895c6527a57",
   "metadata": {},
   "outputs": [
    {
     "data": {
      "text/html": [
       "<div>\n",
       "<style scoped>\n",
       "    .dataframe tbody tr th:only-of-type {\n",
       "        vertical-align: middle;\n",
       "    }\n",
       "\n",
       "    .dataframe tbody tr th {\n",
       "        vertical-align: top;\n",
       "    }\n",
       "\n",
       "    .dataframe thead th {\n",
       "        text-align: right;\n",
       "    }\n",
       "</style>\n",
       "<table border=\"1\" class=\"dataframe\">\n",
       "  <thead>\n",
       "    <tr style=\"text-align: right;\">\n",
       "      <th></th>\n",
       "      <th>index</th>\n",
       "      <th>id</th>\n",
       "      <th>user_id</th>\n",
       "      <th>joke_id</th>\n",
       "      <th>Rating</th>\n",
       "    </tr>\n",
       "  </thead>\n",
       "  <tbody>\n",
       "    <tr>\n",
       "      <th>0</th>\n",
       "      <td>948837</td>\n",
       "      <td>39893_22</td>\n",
       "      <td>39892</td>\n",
       "      <td>21</td>\n",
       "      <td>-0.281</td>\n",
       "    </tr>\n",
       "    <tr>\n",
       "      <th>1</th>\n",
       "      <td>502194</td>\n",
       "      <td>25778_7</td>\n",
       "      <td>25777</td>\n",
       "      <td>6</td>\n",
       "      <td>-7.031</td>\n",
       "    </tr>\n",
       "    <tr>\n",
       "      <th>2</th>\n",
       "      <td>727692</td>\n",
       "      <td>24147_76</td>\n",
       "      <td>24146</td>\n",
       "      <td>75</td>\n",
       "      <td>5.750</td>\n",
       "    </tr>\n",
       "    <tr>\n",
       "      <th>3</th>\n",
       "      <td>155191</td>\n",
       "      <td>4374_9</td>\n",
       "      <td>4373</td>\n",
       "      <td>8</td>\n",
       "      <td>-4.125</td>\n",
       "    </tr>\n",
       "    <tr>\n",
       "      <th>4</th>\n",
       "      <td>897456</td>\n",
       "      <td>18377_120</td>\n",
       "      <td>18376</td>\n",
       "      <td>119</td>\n",
       "      <td>-2.500</td>\n",
       "    </tr>\n",
       "  </tbody>\n",
       "</table>\n",
       "</div>"
      ],
      "text/plain": [
       "    index         id  user_id  joke_id  Rating\n",
       "0  948837   39893_22    39892       21  -0.281\n",
       "1  502194    25778_7    25777        6  -7.031\n",
       "2  727692   24147_76    24146       75   5.750\n",
       "3  155191     4374_9     4373        8  -4.125\n",
       "4  897456  18377_120    18376      119  -2.500"
      ]
     },
     "execution_count": 10,
     "metadata": {},
     "output_type": "execute_result"
    }
   ],
   "source": [
    "testdata.reset_index(inplace=True)\n",
    "traindata.reset_index(inplace=True)\n",
    "\n",
    "testdata.head()"
   ]
  },
  {
   "cell_type": "code",
   "execution_count": 11,
   "id": "03eeb86e-e198-46a5-bd35-10d94a6a106d",
   "metadata": {},
   "outputs": [
    {
     "data": {
      "text/html": [
       "<div>\n",
       "<style scoped>\n",
       "    .dataframe tbody tr th:only-of-type {\n",
       "        vertical-align: middle;\n",
       "    }\n",
       "\n",
       "    .dataframe tbody tr th {\n",
       "        vertical-align: top;\n",
       "    }\n",
       "\n",
       "    .dataframe thead th {\n",
       "        text-align: right;\n",
       "    }\n",
       "</style>\n",
       "<table border=\"1\" class=\"dataframe\">\n",
       "  <thead>\n",
       "    <tr style=\"text-align: right;\">\n",
       "      <th></th>\n",
       "      <th>index</th>\n",
       "      <th>id</th>\n",
       "      <th>user_id</th>\n",
       "      <th>joke_id</th>\n",
       "      <th>Rating</th>\n",
       "    </tr>\n",
       "  </thead>\n",
       "  <tbody>\n",
       "    <tr>\n",
       "      <th>0</th>\n",
       "      <td>478625</td>\n",
       "      <td>36393_109</td>\n",
       "      <td>36392</td>\n",
       "      <td>108</td>\n",
       "      <td>-1.438</td>\n",
       "    </tr>\n",
       "    <tr>\n",
       "      <th>1</th>\n",
       "      <td>1026352</td>\n",
       "      <td>16154_7</td>\n",
       "      <td>16153</td>\n",
       "      <td>6</td>\n",
       "      <td>-4.750</td>\n",
       "    </tr>\n",
       "    <tr>\n",
       "      <th>2</th>\n",
       "      <td>714547</td>\n",
       "      <td>38887_112</td>\n",
       "      <td>38886</td>\n",
       "      <td>111</td>\n",
       "      <td>2.250</td>\n",
       "    </tr>\n",
       "    <tr>\n",
       "      <th>3</th>\n",
       "      <td>940880</td>\n",
       "      <td>11008_14</td>\n",
       "      <td>11007</td>\n",
       "      <td>13</td>\n",
       "      <td>-3.969</td>\n",
       "    </tr>\n",
       "    <tr>\n",
       "      <th>4</th>\n",
       "      <td>674926</td>\n",
       "      <td>13037_107</td>\n",
       "      <td>13036</td>\n",
       "      <td>106</td>\n",
       "      <td>3.688</td>\n",
       "    </tr>\n",
       "  </tbody>\n",
       "</table>\n",
       "</div>"
      ],
      "text/plain": [
       "     index         id  user_id  joke_id  Rating\n",
       "0   478625  36393_109    36392      108  -1.438\n",
       "1  1026352    16154_7    16153        6  -4.750\n",
       "2   714547  38887_112    38886      111   2.250\n",
       "3   940880   11008_14    11007       13  -3.969\n",
       "4   674926  13037_107    13036      106   3.688"
      ]
     },
     "execution_count": 11,
     "metadata": {},
     "output_type": "execute_result"
    }
   ],
   "source": [
    "traindata.head()"
   ]
  },
  {
   "cell_type": "code",
   "execution_count": 12,
   "id": "f83019c0-9198-443f-9aa0-2d24d55a4466",
   "metadata": {},
   "outputs": [
    {
     "name": "stderr",
     "output_type": "stream",
     "text": [
      "C:\\Anaconda\\lib\\site-packages\\pandas\\core\\indexing.py:1720: SettingWithCopyWarning: \n",
      "A value is trying to be set on a copy of a slice from a DataFrame.\n",
      "Try using .loc[row_indexer,col_indexer] = value instead\n",
      "\n",
      "See the caveats in the documentation: https://pandas.pydata.org/pandas-docs/stable/user_guide/indexing.html#returning-a-view-versus-a-copy\n",
      "  self._setitem_single_column(loc, value, pi)\n"
     ]
    },
    {
     "data": {
      "text/html": [
       "<div>\n",
       "<style scoped>\n",
       "    .dataframe tbody tr th:only-of-type {\n",
       "        vertical-align: middle;\n",
       "    }\n",
       "\n",
       "    .dataframe tbody tr th {\n",
       "        vertical-align: top;\n",
       "    }\n",
       "\n",
       "    .dataframe thead th {\n",
       "        text-align: right;\n",
       "    }\n",
       "</style>\n",
       "<table border=\"1\" class=\"dataframe\">\n",
       "  <thead>\n",
       "    <tr style=\"text-align: right;\">\n",
       "      <th></th>\n",
       "      <th>index</th>\n",
       "      <th>id</th>\n",
       "      <th>user_id</th>\n",
       "      <th>joke_id</th>\n",
       "      <th>Rating</th>\n",
       "    </tr>\n",
       "  </thead>\n",
       "  <tbody>\n",
       "    <tr>\n",
       "      <th>0</th>\n",
       "      <td>948837</td>\n",
       "      <td>39893_22</td>\n",
       "      <td>39892</td>\n",
       "      <td>21</td>\n",
       "      <td>-0.281</td>\n",
       "    </tr>\n",
       "    <tr>\n",
       "      <th>1</th>\n",
       "      <td>502194</td>\n",
       "      <td>25778_7</td>\n",
       "      <td>25777</td>\n",
       "      <td>6</td>\n",
       "      <td>-7.031</td>\n",
       "    </tr>\n",
       "    <tr>\n",
       "      <th>2</th>\n",
       "      <td>727692</td>\n",
       "      <td>24147_76</td>\n",
       "      <td>24146</td>\n",
       "      <td>75</td>\n",
       "      <td>5.750</td>\n",
       "    </tr>\n",
       "    <tr>\n",
       "      <th>3</th>\n",
       "      <td>155191</td>\n",
       "      <td>4374_9</td>\n",
       "      <td>4373</td>\n",
       "      <td>8</td>\n",
       "      <td>-4.125</td>\n",
       "    </tr>\n",
       "    <tr>\n",
       "      <th>4</th>\n",
       "      <td>897456</td>\n",
       "      <td>18377_120</td>\n",
       "      <td>18376</td>\n",
       "      <td>119</td>\n",
       "      <td>-2.500</td>\n",
       "    </tr>\n",
       "  </tbody>\n",
       "</table>\n",
       "</div>"
      ],
      "text/plain": [
       "    index         id  user_id  joke_id  Rating\n",
       "0  948837   39893_22    39892       21  -0.281\n",
       "1  502194    25778_7    25777        6  -7.031\n",
       "2  727692   24147_76    24146       75   5.750\n",
       "3  155191     4374_9     4373        8  -4.125\n",
       "4  897456  18377_120    18376      119  -2.500"
      ]
     },
     "execution_count": 12,
     "metadata": {},
     "output_type": "execute_result"
    }
   ],
   "source": [
    "testdata.loc[testdata['Rating'] == 0.0,'Rating'] = 10**-15\n",
    "testdata.head()"
   ]
  },
  {
   "cell_type": "code",
   "execution_count": 13,
   "id": "b8c1230b-7e5e-48a3-bae4-564c680c997a",
   "metadata": {},
   "outputs": [
    {
     "data": {
      "text/html": [
       "<div>\n",
       "<style scoped>\n",
       "    .dataframe tbody tr th:only-of-type {\n",
       "        vertical-align: middle;\n",
       "    }\n",
       "\n",
       "    .dataframe tbody tr th {\n",
       "        vertical-align: top;\n",
       "    }\n",
       "\n",
       "    .dataframe thead th {\n",
       "        text-align: right;\n",
       "    }\n",
       "</style>\n",
       "<table border=\"1\" class=\"dataframe\">\n",
       "  <thead>\n",
       "    <tr style=\"text-align: right;\">\n",
       "      <th></th>\n",
       "      <th>index</th>\n",
       "      <th>id</th>\n",
       "      <th>user_id</th>\n",
       "      <th>joke_id</th>\n",
       "      <th>Rating</th>\n",
       "    </tr>\n",
       "  </thead>\n",
       "  <tbody>\n",
       "    <tr>\n",
       "      <th>0</th>\n",
       "      <td>478625</td>\n",
       "      <td>36393_109</td>\n",
       "      <td>36392</td>\n",
       "      <td>108</td>\n",
       "      <td>-1.438</td>\n",
       "    </tr>\n",
       "    <tr>\n",
       "      <th>1</th>\n",
       "      <td>1026352</td>\n",
       "      <td>16154_7</td>\n",
       "      <td>16153</td>\n",
       "      <td>6</td>\n",
       "      <td>-4.750</td>\n",
       "    </tr>\n",
       "    <tr>\n",
       "      <th>2</th>\n",
       "      <td>714547</td>\n",
       "      <td>38887_112</td>\n",
       "      <td>38886</td>\n",
       "      <td>111</td>\n",
       "      <td>2.250</td>\n",
       "    </tr>\n",
       "    <tr>\n",
       "      <th>3</th>\n",
       "      <td>940880</td>\n",
       "      <td>11008_14</td>\n",
       "      <td>11007</td>\n",
       "      <td>13</td>\n",
       "      <td>-3.969</td>\n",
       "    </tr>\n",
       "    <tr>\n",
       "      <th>4</th>\n",
       "      <td>674926</td>\n",
       "      <td>13037_107</td>\n",
       "      <td>13036</td>\n",
       "      <td>106</td>\n",
       "      <td>3.688</td>\n",
       "    </tr>\n",
       "  </tbody>\n",
       "</table>\n",
       "</div>"
      ],
      "text/plain": [
       "     index         id  user_id  joke_id  Rating\n",
       "0   478625  36393_109    36392      108  -1.438\n",
       "1  1026352    16154_7    16153        6  -4.750\n",
       "2   714547  38887_112    38886      111   2.250\n",
       "3   940880   11008_14    11007       13  -3.969\n",
       "4   674926  13037_107    13036      106   3.688"
      ]
     },
     "execution_count": 13,
     "metadata": {},
     "output_type": "execute_result"
    }
   ],
   "source": [
    "traindata.loc[traindata['Rating'] == 0.0 , 'Rating'] = 10**-15\n",
    "traindata.head()"
   ]
  },
  {
   "cell_type": "markdown",
   "id": "c9161f29-1a96-485a-b84a-945fbd47e95d",
   "metadata": {
    "tags": []
   },
   "source": [
    "### Βήμα 2"
   ]
  },
  {
   "cell_type": "code",
   "execution_count": 14,
   "id": "08891a83-1ad7-48d1-98ad-ca2accaae16f",
   "metadata": {},
   "outputs": [],
   "source": [
    "# User Average"
   ]
  },
  {
   "cell_type": "code",
   "execution_count": 15,
   "id": "fe6fc686-e157-4a76-8e30-826208f64b2c",
   "metadata": {},
   "outputs": [
    {
     "data": {
      "text/html": [
       "<div>\n",
       "<style scoped>\n",
       "    .dataframe tbody tr th:only-of-type {\n",
       "        vertical-align: middle;\n",
       "    }\n",
       "\n",
       "    .dataframe tbody tr th {\n",
       "        vertical-align: top;\n",
       "    }\n",
       "\n",
       "    .dataframe thead th {\n",
       "        text-align: right;\n",
       "    }\n",
       "</style>\n",
       "<table border=\"1\" class=\"dataframe\">\n",
       "  <thead>\n",
       "    <tr style=\"text-align: right;\">\n",
       "      <th></th>\n",
       "      <th>user_id</th>\n",
       "      <th>Rating</th>\n",
       "    </tr>\n",
       "  </thead>\n",
       "  <tbody>\n",
       "    <tr>\n",
       "      <th>0</th>\n",
       "      <td>0</td>\n",
       "      <td>2.502220</td>\n",
       "    </tr>\n",
       "    <tr>\n",
       "      <th>1</th>\n",
       "      <td>1</td>\n",
       "      <td>4.456565</td>\n",
       "    </tr>\n",
       "    <tr>\n",
       "      <th>2</th>\n",
       "      <td>2</td>\n",
       "      <td>-5.544167</td>\n",
       "    </tr>\n",
       "    <tr>\n",
       "      <th>3</th>\n",
       "      <td>3</td>\n",
       "      <td>2.993000</td>\n",
       "    </tr>\n",
       "    <tr>\n",
       "      <th>4</th>\n",
       "      <td>4</td>\n",
       "      <td>-1.723889</td>\n",
       "    </tr>\n",
       "  </tbody>\n",
       "</table>\n",
       "</div>"
      ],
      "text/plain": [
       "   user_id    Rating\n",
       "0        0  2.502220\n",
       "1        1  4.456565\n",
       "2        2 -5.544167\n",
       "3        3  2.993000\n",
       "4        4 -1.723889"
      ]
     },
     "execution_count": 15,
     "metadata": {},
     "output_type": "execute_result"
    }
   ],
   "source": [
    "user_average = traindata.groupby('user_id')['Rating'].mean()\n",
    "user_average = user_average.to_frame()\n",
    "user_average.reset_index(inplace=True)\n",
    "user_average.head()"
   ]
  },
  {
   "cell_type": "code",
   "execution_count": 16,
   "id": "616f3630-e126-4f3e-930c-2dbfd8276104",
   "metadata": {},
   "outputs": [
    {
     "data": {
      "text/html": [
       "<div>\n",
       "<style scoped>\n",
       "    .dataframe tbody tr th:only-of-type {\n",
       "        vertical-align: middle;\n",
       "    }\n",
       "\n",
       "    .dataframe tbody tr th {\n",
       "        vertical-align: top;\n",
       "    }\n",
       "\n",
       "    .dataframe thead th {\n",
       "        text-align: right;\n",
       "    }\n",
       "</style>\n",
       "<table border=\"1\" class=\"dataframe\">\n",
       "  <thead>\n",
       "    <tr style=\"text-align: right;\">\n",
       "      <th></th>\n",
       "      <th>index</th>\n",
       "      <th>id</th>\n",
       "      <th>user_id</th>\n",
       "      <th>joke_id</th>\n",
       "      <th>Rating_x</th>\n",
       "      <th>Rating_y</th>\n",
       "    </tr>\n",
       "  </thead>\n",
       "  <tbody>\n",
       "    <tr>\n",
       "      <th>0</th>\n",
       "      <td>948837</td>\n",
       "      <td>39893_22</td>\n",
       "      <td>39892</td>\n",
       "      <td>21</td>\n",
       "      <td>-0.281</td>\n",
       "      <td>1.522214</td>\n",
       "    </tr>\n",
       "    <tr>\n",
       "      <th>1</th>\n",
       "      <td>502194</td>\n",
       "      <td>25778_7</td>\n",
       "      <td>25777</td>\n",
       "      <td>6</td>\n",
       "      <td>-7.031</td>\n",
       "      <td>-1.124298</td>\n",
       "    </tr>\n",
       "    <tr>\n",
       "      <th>2</th>\n",
       "      <td>727692</td>\n",
       "      <td>24147_76</td>\n",
       "      <td>24146</td>\n",
       "      <td>75</td>\n",
       "      <td>5.750</td>\n",
       "      <td>3.214860</td>\n",
       "    </tr>\n",
       "    <tr>\n",
       "      <th>3</th>\n",
       "      <td>367563</td>\n",
       "      <td>24147_89</td>\n",
       "      <td>24146</td>\n",
       "      <td>88</td>\n",
       "      <td>4.156</td>\n",
       "      <td>3.214860</td>\n",
       "    </tr>\n",
       "    <tr>\n",
       "      <th>4</th>\n",
       "      <td>299082</td>\n",
       "      <td>24147_100</td>\n",
       "      <td>24146</td>\n",
       "      <td>99</td>\n",
       "      <td>4.031</td>\n",
       "      <td>3.214860</td>\n",
       "    </tr>\n",
       "  </tbody>\n",
       "</table>\n",
       "</div>"
      ],
      "text/plain": [
       "    index         id  user_id  joke_id  Rating_x  Rating_y\n",
       "0  948837   39893_22    39892       21    -0.281  1.522214\n",
       "1  502194    25778_7    25777        6    -7.031 -1.124298\n",
       "2  727692   24147_76    24146       75     5.750  3.214860\n",
       "3  367563   24147_89    24146       88     4.156  3.214860\n",
       "4  299082  24147_100    24146       99     4.031  3.214860"
      ]
     },
     "execution_count": 16,
     "metadata": {},
     "output_type": "execute_result"
    }
   ],
   "source": [
    "merged_testdata = pd.merge(testdata,user_average, on=['user_id'])\n",
    "merged_testdata.head()"
   ]
  },
  {
   "cell_type": "code",
   "execution_count": 17,
   "id": "8c256777-6f16-43f5-9188-df0c34987c2c",
   "metadata": {},
   "outputs": [
    {
     "data": {
      "text/plain": [
       "4.52416766013762"
      ]
     },
     "execution_count": 17,
     "metadata": {},
     "output_type": "execute_result"
    }
   ],
   "source": [
    "rmse1 =(merged_testdata['Rating_x'] - merged_testdata['Rating_y'])**2\n",
    "\n",
    "rmse1 = np.sqrt((1/10000)*(rmse1.sum()))\n",
    "rmse1"
   ]
  },
  {
   "cell_type": "code",
   "execution_count": 18,
   "id": "1aa0b6a0-ab8f-4686-b9b8-34507dcfc869",
   "metadata": {},
   "outputs": [],
   "source": [
    "# Joke Average"
   ]
  },
  {
   "cell_type": "code",
   "execution_count": 19,
   "id": "2957954a-a7e9-4c2b-ad39-4544eaecae54",
   "metadata": {},
   "outputs": [
    {
     "data": {
      "text/html": [
       "<div>\n",
       "<style scoped>\n",
       "    .dataframe tbody tr th:only-of-type {\n",
       "        vertical-align: middle;\n",
       "    }\n",
       "\n",
       "    .dataframe tbody tr th {\n",
       "        vertical-align: top;\n",
       "    }\n",
       "\n",
       "    .dataframe thead th {\n",
       "        text-align: right;\n",
       "    }\n",
       "</style>\n",
       "<table border=\"1\" class=\"dataframe\">\n",
       "  <thead>\n",
       "    <tr style=\"text-align: right;\">\n",
       "      <th></th>\n",
       "      <th>joke_id</th>\n",
       "      <th>Rating</th>\n",
       "    </tr>\n",
       "  </thead>\n",
       "  <tbody>\n",
       "    <tr>\n",
       "      <th>0</th>\n",
       "      <td>0</td>\n",
       "      <td>-2.243212</td>\n",
       "    </tr>\n",
       "    <tr>\n",
       "      <th>1</th>\n",
       "      <td>1</td>\n",
       "      <td>-1.933326</td>\n",
       "    </tr>\n",
       "    <tr>\n",
       "      <th>2</th>\n",
       "      <td>2</td>\n",
       "      <td>-0.669190</td>\n",
       "    </tr>\n",
       "    <tr>\n",
       "      <th>3</th>\n",
       "      <td>3</td>\n",
       "      <td>-0.606896</td>\n",
       "    </tr>\n",
       "    <tr>\n",
       "      <th>4</th>\n",
       "      <td>4</td>\n",
       "      <td>-1.414191</td>\n",
       "    </tr>\n",
       "  </tbody>\n",
       "</table>\n",
       "</div>"
      ],
      "text/plain": [
       "   joke_id    Rating\n",
       "0        0 -2.243212\n",
       "1        1 -1.933326\n",
       "2        2 -0.669190\n",
       "3        3 -0.606896\n",
       "4        4 -1.414191"
      ]
     },
     "execution_count": 19,
     "metadata": {},
     "output_type": "execute_result"
    }
   ],
   "source": [
    "joke_average = traindata.groupby('joke_id')['Rating'].mean()\n",
    "joke_average = joke_average.to_frame()\n",
    "joke_average.reset_index(inplace=True)\n",
    "joke_average.head()"
   ]
  },
  {
   "cell_type": "code",
   "execution_count": 20,
   "id": "58adee53-b3e2-4013-9db4-bb9d35c46b19",
   "metadata": {},
   "outputs": [
    {
     "data": {
      "text/html": [
       "<div>\n",
       "<style scoped>\n",
       "    .dataframe tbody tr th:only-of-type {\n",
       "        vertical-align: middle;\n",
       "    }\n",
       "\n",
       "    .dataframe tbody tr th {\n",
       "        vertical-align: top;\n",
       "    }\n",
       "\n",
       "    .dataframe thead th {\n",
       "        text-align: right;\n",
       "    }\n",
       "</style>\n",
       "<table border=\"1\" class=\"dataframe\">\n",
       "  <thead>\n",
       "    <tr style=\"text-align: right;\">\n",
       "      <th></th>\n",
       "      <th>index</th>\n",
       "      <th>id</th>\n",
       "      <th>user_id</th>\n",
       "      <th>joke_id</th>\n",
       "      <th>Rating_x</th>\n",
       "      <th>Rating_y</th>\n",
       "    </tr>\n",
       "  </thead>\n",
       "  <tbody>\n",
       "    <tr>\n",
       "      <th>0</th>\n",
       "      <td>948837</td>\n",
       "      <td>39893_22</td>\n",
       "      <td>39892</td>\n",
       "      <td>21</td>\n",
       "      <td>-0.281</td>\n",
       "      <td>3.505219</td>\n",
       "    </tr>\n",
       "    <tr>\n",
       "      <th>1</th>\n",
       "      <td>190003</td>\n",
       "      <td>23075_22</td>\n",
       "      <td>23074</td>\n",
       "      <td>21</td>\n",
       "      <td>3.156</td>\n",
       "      <td>3.505219</td>\n",
       "    </tr>\n",
       "    <tr>\n",
       "      <th>2</th>\n",
       "      <td>1031510</td>\n",
       "      <td>23172_22</td>\n",
       "      <td>23171</td>\n",
       "      <td>21</td>\n",
       "      <td>2.906</td>\n",
       "      <td>3.505219</td>\n",
       "    </tr>\n",
       "    <tr>\n",
       "      <th>3</th>\n",
       "      <td>207822</td>\n",
       "      <td>7283_22</td>\n",
       "      <td>7282</td>\n",
       "      <td>21</td>\n",
       "      <td>-2.938</td>\n",
       "      <td>3.505219</td>\n",
       "    </tr>\n",
       "    <tr>\n",
       "      <th>4</th>\n",
       "      <td>208851</td>\n",
       "      <td>33971_22</td>\n",
       "      <td>33970</td>\n",
       "      <td>21</td>\n",
       "      <td>2.656</td>\n",
       "      <td>3.505219</td>\n",
       "    </tr>\n",
       "  </tbody>\n",
       "</table>\n",
       "</div>"
      ],
      "text/plain": [
       "     index        id  user_id  joke_id  Rating_x  Rating_y\n",
       "0   948837  39893_22    39892       21    -0.281  3.505219\n",
       "1   190003  23075_22    23074       21     3.156  3.505219\n",
       "2  1031510  23172_22    23171       21     2.906  3.505219\n",
       "3   207822   7283_22     7282       21    -2.938  3.505219\n",
       "4   208851  33971_22    33970       21     2.656  3.505219"
      ]
     },
     "execution_count": 20,
     "metadata": {},
     "output_type": "execute_result"
    }
   ],
   "source": [
    "merged_testdata2 = pd.merge(testdata,joke_average, on=['joke_id'])\n",
    "merged_testdata2.head()"
   ]
  },
  {
   "cell_type": "code",
   "execution_count": 21,
   "id": "11e9acc6-3fef-4f06-8e55-efb79a729d14",
   "metadata": {},
   "outputs": [
    {
     "data": {
      "text/plain": [
       "5.049905611823062"
      ]
     },
     "execution_count": 21,
     "metadata": {},
     "output_type": "execute_result"
    }
   ],
   "source": [
    "rmse2 =(merged_testdata2['Rating_x'] - merged_testdata2['Rating_y'])**2\n",
    "\n",
    "rmse2 = np.sqrt((1/10000)*(rmse2.sum()))\n",
    "rmse2"
   ]
  },
  {
   "cell_type": "code",
   "execution_count": 22,
   "id": "d80abdfc-7ca7-453e-8b99-1a7da986156f",
   "metadata": {},
   "outputs": [
    {
     "name": "stdout",
     "output_type": "stream",
     "text": [
      "User Average RMSE:  4.52416766013762\n",
      "Joke Average RMSE:  5.049905611823062\n"
     ]
    }
   ],
   "source": [
    "print('User Average RMSE: ',rmse1)\n",
    "print('Joke Average RMSE: ',rmse2)"
   ]
  },
  {
   "cell_type": "markdown",
   "id": "2e8fc1f2-620a-4646-b260-820301d8cdf0",
   "metadata": {},
   "source": [
    "Οι δύο τιμές των RMSE είναι κοντά μεταξύ τους, κάτι που σημαίνει ότι θα μπορούσαν να χρησιμοποιηθούν εναλλακτικά για την πρόβλεψη βαθμολογιών."
   ]
  },
  {
   "cell_type": "markdown",
   "id": "23d8c5ce-ed0f-4fc6-8f3a-8db38222bbea",
   "metadata": {},
   "source": [
    "### Βήμα 3"
   ]
  },
  {
   "cell_type": "code",
   "execution_count": 23,
   "id": "8c42d040-44d8-43ec-b148-5c9d2c0a75a9",
   "metadata": {},
   "outputs": [],
   "source": [
    "# User-Based collaborative Filtering (UCF)"
   ]
  },
  {
   "cell_type": "code",
   "execution_count": 330,
   "id": "ef3a68a2-7b6f-486f-bca0-945c01ece09b",
   "metadata": {},
   "outputs": [],
   "source": [
    "import scipy.sparse as sp_sparse\n",
    "import scipy.spatial.distance as sp_dist\n",
    "from sklearn.neighbors import NearestNeighbors\n",
    "from scipy.spatial  import KDTree\n",
    "from sklearn.metrics.pairwise import cosine_similarity\n",
    "from sklearn.metrics import mean_squared_error\n",
    "\n",
    "import time"
   ]
  },
  {
   "cell_type": "code",
   "execution_count": 25,
   "id": "4930cbea-81cc-42ca-92ac-43d8f90fb55b",
   "metadata": {},
   "outputs": [
    {
     "data": {
      "text/html": [
       "<div>\n",
       "<style scoped>\n",
       "    .dataframe tbody tr th:only-of-type {\n",
       "        vertical-align: middle;\n",
       "    }\n",
       "\n",
       "    .dataframe tbody tr th {\n",
       "        vertical-align: top;\n",
       "    }\n",
       "\n",
       "    .dataframe thead th {\n",
       "        text-align: right;\n",
       "    }\n",
       "</style>\n",
       "<table border=\"1\" class=\"dataframe\">\n",
       "  <thead>\n",
       "    <tr style=\"text-align: right;\">\n",
       "      <th></th>\n",
       "      <th>index</th>\n",
       "      <th>id</th>\n",
       "      <th>user_id</th>\n",
       "      <th>joke_id</th>\n",
       "      <th>Rating</th>\n",
       "    </tr>\n",
       "  </thead>\n",
       "  <tbody>\n",
       "    <tr>\n",
       "      <th>0</th>\n",
       "      <td>478625</td>\n",
       "      <td>36393_109</td>\n",
       "      <td>36392</td>\n",
       "      <td>108</td>\n",
       "      <td>-1.438</td>\n",
       "    </tr>\n",
       "    <tr>\n",
       "      <th>1</th>\n",
       "      <td>1026352</td>\n",
       "      <td>16154_7</td>\n",
       "      <td>16153</td>\n",
       "      <td>6</td>\n",
       "      <td>-4.750</td>\n",
       "    </tr>\n",
       "    <tr>\n",
       "      <th>2</th>\n",
       "      <td>714547</td>\n",
       "      <td>38887_112</td>\n",
       "      <td>38886</td>\n",
       "      <td>111</td>\n",
       "      <td>2.250</td>\n",
       "    </tr>\n",
       "    <tr>\n",
       "      <th>3</th>\n",
       "      <td>940880</td>\n",
       "      <td>11008_14</td>\n",
       "      <td>11007</td>\n",
       "      <td>13</td>\n",
       "      <td>-3.969</td>\n",
       "    </tr>\n",
       "    <tr>\n",
       "      <th>4</th>\n",
       "      <td>674926</td>\n",
       "      <td>13037_107</td>\n",
       "      <td>13036</td>\n",
       "      <td>106</td>\n",
       "      <td>3.688</td>\n",
       "    </tr>\n",
       "  </tbody>\n",
       "</table>\n",
       "</div>"
      ],
      "text/plain": [
       "     index         id  user_id  joke_id  Rating\n",
       "0   478625  36393_109    36392      108  -1.438\n",
       "1  1026352    16154_7    16153        6  -4.750\n",
       "2   714547  38887_112    38886      111   2.250\n",
       "3   940880   11008_14    11007       13  -3.969\n",
       "4   674926  13037_107    13036      106   3.688"
      ]
     },
     "execution_count": 25,
     "metadata": {},
     "output_type": "execute_result"
    }
   ],
   "source": [
    "traindata.head()"
   ]
  },
  {
   "cell_type": "code",
   "execution_count": 26,
   "id": "21768f8e-b962-4e36-aba0-abbd320bab55",
   "metadata": {},
   "outputs": [
    {
     "data": {
      "text/html": [
       "<div>\n",
       "<style scoped>\n",
       "    .dataframe tbody tr th:only-of-type {\n",
       "        vertical-align: middle;\n",
       "    }\n",
       "\n",
       "    .dataframe tbody tr th {\n",
       "        vertical-align: top;\n",
       "    }\n",
       "\n",
       "    .dataframe thead th {\n",
       "        text-align: right;\n",
       "    }\n",
       "</style>\n",
       "<table border=\"1\" class=\"dataframe\">\n",
       "  <thead>\n",
       "    <tr style=\"text-align: right;\">\n",
       "      <th></th>\n",
       "      <th>index</th>\n",
       "      <th>id</th>\n",
       "      <th>user_id</th>\n",
       "      <th>joke_id</th>\n",
       "      <th>Rating</th>\n",
       "    </tr>\n",
       "  </thead>\n",
       "  <tbody>\n",
       "    <tr>\n",
       "      <th>0</th>\n",
       "      <td>948837</td>\n",
       "      <td>39893_22</td>\n",
       "      <td>39892</td>\n",
       "      <td>21</td>\n",
       "      <td>-0.281</td>\n",
       "    </tr>\n",
       "    <tr>\n",
       "      <th>1</th>\n",
       "      <td>502194</td>\n",
       "      <td>25778_7</td>\n",
       "      <td>25777</td>\n",
       "      <td>6</td>\n",
       "      <td>-7.031</td>\n",
       "    </tr>\n",
       "    <tr>\n",
       "      <th>2</th>\n",
       "      <td>727692</td>\n",
       "      <td>24147_76</td>\n",
       "      <td>24146</td>\n",
       "      <td>75</td>\n",
       "      <td>5.750</td>\n",
       "    </tr>\n",
       "    <tr>\n",
       "      <th>3</th>\n",
       "      <td>155191</td>\n",
       "      <td>4374_9</td>\n",
       "      <td>4373</td>\n",
       "      <td>8</td>\n",
       "      <td>-4.125</td>\n",
       "    </tr>\n",
       "    <tr>\n",
       "      <th>4</th>\n",
       "      <td>897456</td>\n",
       "      <td>18377_120</td>\n",
       "      <td>18376</td>\n",
       "      <td>119</td>\n",
       "      <td>-2.500</td>\n",
       "    </tr>\n",
       "  </tbody>\n",
       "</table>\n",
       "</div>"
      ],
      "text/plain": [
       "    index         id  user_id  joke_id  Rating\n",
       "0  948837   39893_22    39892       21  -0.281\n",
       "1  502194    25778_7    25777        6  -7.031\n",
       "2  727692   24147_76    24146       75   5.750\n",
       "3  155191     4374_9     4373        8  -4.125\n",
       "4  897456  18377_120    18376      119  -2.500"
      ]
     },
     "execution_count": 26,
     "metadata": {},
     "output_type": "execute_result"
    }
   ],
   "source": [
    "testdata.head()"
   ]
  },
  {
   "cell_type": "code",
   "execution_count": 27,
   "id": "8cd3edb8-5453-43ab-ba24-90b262a64e3f",
   "metadata": {},
   "outputs": [
    {
     "name": "stdout",
     "output_type": "stream",
     "text": [
      "(40863, 139)\n"
     ]
    }
   ],
   "source": [
    "row = traindata.iloc[:]['user_id']\n",
    "col = traindata.iloc[:]['joke_id']\n",
    "data = traindata.iloc[:]['Rating']\n",
    "\n",
    "# a matrix R with R[row[i],col[i]] = data[i] will be created \n",
    "R = sp_sparse.csr_matrix((data,(row,col)))\n",
    "\n",
    "# first value is the user id (od a range of users) , second value is the range of jokes for this user\n",
    "#print(R[32782,:])  \n",
    "\n",
    "# transforms back to full matrix\n",
    "print(R.toarray().shape)"
   ]
  },
  {
   "cell_type": "code",
   "execution_count": 28,
   "id": "3461f97e-dad6-4372-883f-71411e76f3b0",
   "metadata": {},
   "outputs": [],
   "source": [
    "k = 10 # 10,25,50,75,100 number of closest users by cosine distance"
   ]
  },
  {
   "cell_type": "code",
   "execution_count": 29,
   "id": "f8050944-469c-443c-a42d-d5f6f2cf0a97",
   "metadata": {},
   "outputs": [],
   "source": [
    "# alternative to nearest neighbor\n",
    "similarities_sparse = cosine_similarity(R, dense_output=False)"
   ]
  },
  {
   "cell_type": "code",
   "execution_count": 30,
   "id": "af0ade54-9cbc-4037-bb13-bb9aa27d47dc",
   "metadata": {},
   "outputs": [
    {
     "name": "stdout",
     "output_type": "stream",
     "text": [
      "(40863, 40863)\n"
     ]
    }
   ],
   "source": [
    "print(similarities_sparse.shape)"
   ]
  },
  {
   "cell_type": "code",
   "execution_count": 353,
   "id": "f462ea88-c0d6-48a8-8103-b3ca6eb6d33c",
   "metadata": {
    "tags": []
   },
   "outputs": [],
   "source": [
    "index_list = np.where(R.toarray()[:,0] != 0)[0] # list with all the users that have rated joke=0"
   ]
  },
  {
   "cell_type": "code",
   "execution_count": 32,
   "id": "f974658a-9ba5-4597-86e4-32cb47ef0c8c",
   "metadata": {},
   "outputs": [
    {
     "data": {
      "text/plain": [
       "(382, 139)"
      ]
     },
     "execution_count": 32,
     "metadata": {},
     "output_type": "execute_result"
    }
   ],
   "source": [
    "R.toarray()[index_list,:] .shape"
   ]
  },
  {
   "cell_type": "code",
   "execution_count": 33,
   "id": "c673c6fd-29eb-4448-a1ac-e39888e74caf",
   "metadata": {},
   "outputs": [],
   "source": [
    "sorted_i = np.argsort(similarities_sparse[0,index_list].toarray())"
   ]
  },
  {
   "cell_type": "code",
   "execution_count": 34,
   "id": "bbd934f4-39cd-455a-ae49-7b6eb24f227e",
   "metadata": {},
   "outputs": [
    {
     "data": {
      "text/plain": [
       "array([506, 267, 340, 152, 318,  79, 536, 499, 381, 242], dtype=int64)"
      ]
     },
     "execution_count": 34,
     "metadata": {},
     "output_type": "execute_result"
    }
   ],
   "source": [
    "if index_list.size > k+1:\n",
    "    ink_list = index_list[sorted_i[0][-(k+1):]] # best k(+1 because user is included with similarity 1) indices\n",
    "else:\n",
    "    ink_list = index_list[sorted_i[0][:]]\n",
    "ink_list_n = ink_list[:-1]\n",
    "ink_list_n"
   ]
  },
  {
   "cell_type": "code",
   "execution_count": 35,
   "id": "d59b4a7a-4b4d-4b64-aa1f-ef514784737e",
   "metadata": {},
   "outputs": [
    {
     "data": {
      "text/plain": [
       "array([ 4.375,  2.375, -3.344,  5.125, -9.156, -9.719,  0.75 , -8.844,\n",
       "       -6.344,  4.438])"
      ]
     },
     "execution_count": 35,
     "metadata": {},
     "output_type": "execute_result"
    }
   ],
   "source": [
    "R.toarray()[ink_list_n,0]"
   ]
  },
  {
   "cell_type": "code",
   "execution_count": 36,
   "id": "81a6c4fe-6820-4d72-9eec-3f393704dd36",
   "metadata": {},
   "outputs": [
    {
     "data": {
      "text/plain": [
       "array([[0.37739175, 0.37947571, 0.38282457, 0.38293588, 0.38994937,\n",
       "        0.39287381, 0.42046471, 0.42723235, 0.45039445, 0.52465798]])"
      ]
     },
     "execution_count": 36,
     "metadata": {},
     "output_type": "execute_result"
    }
   ],
   "source": [
    "similarities_sparse[0,ink_list_n].toarray()"
   ]
  },
  {
   "cell_type": "code",
   "execution_count": 38,
   "id": "d12c7eac-f314-4498-94c8-52c83e58bff7",
   "metadata": {},
   "outputs": [
    {
     "data": {
      "text/plain": [
       "-1.9732463899802593"
      ]
     },
     "execution_count": 38,
     "metadata": {},
     "output_type": "execute_result"
    }
   ],
   "source": [
    "p = ((R.toarray()[ink_list_n,0] * similarities_sparse[0,ink_list_n].toarray()).sum()) / similarities_sparse[0,ink_list_n].toarray().sum() # p for user = 0 , joke = 0\n",
    "p"
   ]
  },
  {
   "cell_type": "code",
   "execution_count": 39,
   "id": "7cd53885-ae1c-426e-8c35-c4434400ae14",
   "metadata": {},
   "outputs": [],
   "source": [
    "def ubcf(r,c):\n",
    "    index_list = np.where(R.toarray()[:,c] != 0)[0]\n",
    "    sorted_i = np.argsort(similarities_sparse[r,index_list].toarray())\n",
    "    if index_list.size > k+1:\n",
    "        ink_list = index_list[sorted_i[0][-(k+1):]] # best k(+1 because user is included with similarity 1) indices\n",
    "    else:\n",
    "        ink_list = index_list[sorted_i[0][:]]\n",
    "    ink_list_n = ink_list[:-1]\n",
    "    \n",
    "    \n",
    "    p = ((R.toarray()[ink_list_n,c] * similarities_sparse[r,ink_list_n].toarray()).sum()) / similarities_sparse[r,ink_list_n].toarray().sum()\n",
    "    return(p)"
   ]
  },
  {
   "cell_type": "code",
   "execution_count": 40,
   "id": "8c90fdbd-32aa-4286-84e7-2cb3c4303023",
   "metadata": {},
   "outputs": [
    {
     "name": "stdout",
     "output_type": "stream",
     "text": [
      "-6.247069590113146\n"
     ]
    }
   ],
   "source": [
    "print(ubcf(0,1))"
   ]
  },
  {
   "cell_type": "code",
   "execution_count": 325,
   "id": "eb53649e-f48b-4dec-a383-0a32ba057ba7",
   "metadata": {},
   "outputs": [
    {
     "data": {
      "text/html": [
       "<div>\n",
       "<style scoped>\n",
       "    .dataframe tbody tr th:only-of-type {\n",
       "        vertical-align: middle;\n",
       "    }\n",
       "\n",
       "    .dataframe tbody tr th {\n",
       "        vertical-align: top;\n",
       "    }\n",
       "\n",
       "    .dataframe thead th {\n",
       "        text-align: right;\n",
       "    }\n",
       "</style>\n",
       "<table border=\"1\" class=\"dataframe\">\n",
       "  <thead>\n",
       "    <tr style=\"text-align: right;\">\n",
       "      <th></th>\n",
       "      <th>index</th>\n",
       "      <th>id</th>\n",
       "      <th>user_id</th>\n",
       "      <th>joke_id</th>\n",
       "      <th>Rating</th>\n",
       "      <th>predicted_k2</th>\n",
       "      <th>predicted_k3</th>\n",
       "      <th>predicted_k4</th>\n",
       "      <th>predicted_k5</th>\n",
       "      <th>predicted_k6</th>\n",
       "      <th>...</th>\n",
       "      <th>predicted_k11</th>\n",
       "      <th>predicted_k12</th>\n",
       "      <th>predicted_k13</th>\n",
       "      <th>predicted_k14</th>\n",
       "      <th>predicted_k15</th>\n",
       "      <th>predicted_k16</th>\n",
       "      <th>predicted_k17</th>\n",
       "      <th>predicted_k18</th>\n",
       "      <th>predicted_k19</th>\n",
       "      <th>predicted_k20</th>\n",
       "    </tr>\n",
       "  </thead>\n",
       "  <tbody>\n",
       "    <tr>\n",
       "      <th>0</th>\n",
       "      <td>948837</td>\n",
       "      <td>39893_22</td>\n",
       "      <td>39892</td>\n",
       "      <td>21</td>\n",
       "      <td>-0.281</td>\n",
       "      <td>0.576068</td>\n",
       "      <td>0.576068</td>\n",
       "      <td>0.905420</td>\n",
       "      <td>0.904283</td>\n",
       "      <td>0.949295</td>\n",
       "      <td>...</td>\n",
       "      <td>0.858095</td>\n",
       "      <td>1.111962</td>\n",
       "      <td>1.395229</td>\n",
       "      <td>1.455563</td>\n",
       "      <td>1.438508</td>\n",
       "      <td>1.671203</td>\n",
       "      <td>2.089527</td>\n",
       "      <td>1.857076</td>\n",
       "      <td>1.884208</td>\n",
       "      <td>1.310657</td>\n",
       "    </tr>\n",
       "    <tr>\n",
       "      <th>1</th>\n",
       "      <td>502194</td>\n",
       "      <td>25778_7</td>\n",
       "      <td>25777</td>\n",
       "      <td>6</td>\n",
       "      <td>-7.031</td>\n",
       "      <td>-2.696052</td>\n",
       "      <td>-2.696052</td>\n",
       "      <td>-4.132730</td>\n",
       "      <td>-2.488285</td>\n",
       "      <td>-2.798875</td>\n",
       "      <td>...</td>\n",
       "      <td>-0.226821</td>\n",
       "      <td>-0.346196</td>\n",
       "      <td>-0.372340</td>\n",
       "      <td>-0.421047</td>\n",
       "      <td>-0.176808</td>\n",
       "      <td>-0.312606</td>\n",
       "      <td>-0.429485</td>\n",
       "      <td>-0.501017</td>\n",
       "      <td>-0.499463</td>\n",
       "      <td>-0.436023</td>\n",
       "    </tr>\n",
       "    <tr>\n",
       "      <th>2</th>\n",
       "      <td>727692</td>\n",
       "      <td>24147_76</td>\n",
       "      <td>24146</td>\n",
       "      <td>75</td>\n",
       "      <td>5.750</td>\n",
       "      <td>0.862005</td>\n",
       "      <td>0.862005</td>\n",
       "      <td>0.870851</td>\n",
       "      <td>0.958490</td>\n",
       "      <td>0.961148</td>\n",
       "      <td>...</td>\n",
       "      <td>0.936387</td>\n",
       "      <td>0.890929</td>\n",
       "      <td>0.808295</td>\n",
       "      <td>0.826624</td>\n",
       "      <td>0.969157</td>\n",
       "      <td>0.962792</td>\n",
       "      <td>0.968208</td>\n",
       "      <td>0.884359</td>\n",
       "      <td>0.986389</td>\n",
       "      <td>0.987317</td>\n",
       "    </tr>\n",
       "    <tr>\n",
       "      <th>3</th>\n",
       "      <td>155191</td>\n",
       "      <td>4374_9</td>\n",
       "      <td>4373</td>\n",
       "      <td>8</td>\n",
       "      <td>-4.125</td>\n",
       "      <td>2.393193</td>\n",
       "      <td>2.393193</td>\n",
       "      <td>0.076425</td>\n",
       "      <td>-0.778617</td>\n",
       "      <td>-0.325651</td>\n",
       "      <td>...</td>\n",
       "      <td>-1.338863</td>\n",
       "      <td>-0.719061</td>\n",
       "      <td>0.232070</td>\n",
       "      <td>0.000368</td>\n",
       "      <td>0.207991</td>\n",
       "      <td>0.139147</td>\n",
       "      <td>0.133379</td>\n",
       "      <td>0.050675</td>\n",
       "      <td>0.013439</td>\n",
       "      <td>-0.005607</td>\n",
       "    </tr>\n",
       "    <tr>\n",
       "      <th>4</th>\n",
       "      <td>897456</td>\n",
       "      <td>18377_120</td>\n",
       "      <td>18376</td>\n",
       "      <td>119</td>\n",
       "      <td>-2.500</td>\n",
       "      <td>0.344290</td>\n",
       "      <td>0.344290</td>\n",
       "      <td>0.318921</td>\n",
       "      <td>0.282692</td>\n",
       "      <td>0.314829</td>\n",
       "      <td>...</td>\n",
       "      <td>-0.071873</td>\n",
       "      <td>0.005156</td>\n",
       "      <td>-0.309307</td>\n",
       "      <td>-0.220968</td>\n",
       "      <td>-0.206857</td>\n",
       "      <td>-0.070626</td>\n",
       "      <td>-0.174274</td>\n",
       "      <td>-0.134596</td>\n",
       "      <td>-0.367548</td>\n",
       "      <td>-0.344399</td>\n",
       "    </tr>\n",
       "  </tbody>\n",
       "</table>\n",
       "<p>5 rows × 24 columns</p>\n",
       "</div>"
      ],
      "text/plain": [
       "    index         id  user_id  joke_id  Rating  predicted_k2  predicted_k3  \\\n",
       "0  948837   39893_22    39892       21  -0.281      0.576068      0.576068   \n",
       "1  502194    25778_7    25777        6  -7.031     -2.696052     -2.696052   \n",
       "2  727692   24147_76    24146       75   5.750      0.862005      0.862005   \n",
       "3  155191     4374_9     4373        8  -4.125      2.393193      2.393193   \n",
       "4  897456  18377_120    18376      119  -2.500      0.344290      0.344290   \n",
       "\n",
       "   predicted_k4  predicted_k5  predicted_k6  ...  predicted_k11  \\\n",
       "0      0.905420      0.904283      0.949295  ...       0.858095   \n",
       "1     -4.132730     -2.488285     -2.798875  ...      -0.226821   \n",
       "2      0.870851      0.958490      0.961148  ...       0.936387   \n",
       "3      0.076425     -0.778617     -0.325651  ...      -1.338863   \n",
       "4      0.318921      0.282692      0.314829  ...      -0.071873   \n",
       "\n",
       "   predicted_k12  predicted_k13  predicted_k14  predicted_k15  predicted_k16  \\\n",
       "0       1.111962       1.395229       1.455563       1.438508       1.671203   \n",
       "1      -0.346196      -0.372340      -0.421047      -0.176808      -0.312606   \n",
       "2       0.890929       0.808295       0.826624       0.969157       0.962792   \n",
       "3      -0.719061       0.232070       0.000368       0.207991       0.139147   \n",
       "4       0.005156      -0.309307      -0.220968      -0.206857      -0.070626   \n",
       "\n",
       "   predicted_k17  predicted_k18  predicted_k19  predicted_k20  \n",
       "0       2.089527       1.857076       1.884208       1.310657  \n",
       "1      -0.429485      -0.501017      -0.499463      -0.436023  \n",
       "2       0.968208       0.884359       0.986389       0.987317  \n",
       "3       0.133379       0.050675       0.013439      -0.005607  \n",
       "4      -0.174274      -0.134596      -0.367548      -0.344399  \n",
       "\n",
       "[5 rows x 24 columns]"
      ]
     },
     "execution_count": 325,
     "metadata": {},
     "output_type": "execute_result"
    }
   ],
   "source": [
    "testdata.head()"
   ]
  },
  {
   "cell_type": "code",
   "execution_count": 328,
   "id": "c1f71af3-939e-417c-8ecb-0ea7ea764e32",
   "metadata": {},
   "outputs": [
    {
     "name": "stdout",
     "output_type": "stream",
     "text": [
      "Time taken: 558.126562 seconds \n"
     ]
    }
   ],
   "source": [
    "start_time = time.time()\n",
    "predicted_results = testdata[['user_id','joke_id']].apply(lambda x: ubcf(x.user_id, x.joke_id), axis=1)\n",
    "end_time = time.time()\n",
    "print('Time taken: %f seconds ' %(end_time-start_time))"
   ]
  },
  {
   "cell_type": "code",
   "execution_count": 331,
   "id": "1379f195-b39d-4c63-b2a8-42b5bed292c8",
   "metadata": {},
   "outputs": [
    {
     "data": {
      "text/plain": [
       "5.678221567920717"
      ]
     },
     "execution_count": 331,
     "metadata": {},
     "output_type": "execute_result"
    }
   ],
   "source": [
    "mean_squared_error(y_true=testdata.Rating,y_pred=predicted_results,squared=False)"
   ]
  },
  {
   "cell_type": "code",
   "execution_count": 335,
   "id": "8384cdfd-f113-4b2c-8606-83a78d7735c0",
   "metadata": {},
   "outputs": [
    {
     "name": "stdout",
     "output_type": "stream",
     "text": [
      "Time taken: 416.886027 seconds for k=10\n",
      "Time taken: 355.420520 seconds for k=25\n",
      "Time taken: 359.016030 seconds for k=50\n",
      "Time taken: 378.449515 seconds for k=75\n",
      "Time taken: 383.542956 seconds for k=100\n",
      "Results:  [4.505006835887949, 4.421608657646379, 4.4130703499550235, 4.404614360538365, 4.400143582685792]\n"
     ]
    }
   ],
   "source": [
    "ubcf_rmse_results = []\n",
    "klist = [10,25,50,75,100]\n",
    "for i in klist:\n",
    "    k = i\n",
    "    start_time = time.time()\n",
    "    predicted_results = testdata[['user_id','joke_id']].apply(lambda x: ubcf(x.user_id, x.joke_id), axis=1)\n",
    "    end_time = time.time()\n",
    "    print('Time taken: %f seconds for k=%d' %(end_time-start_time,k))\n",
    "    \n",
    "    ubcf_rmse = mean_squared_error(y_true=testdata.Rating,y_pred=predicted_results,squared=False)\n",
    "    ubcf_rmse_results.append(ubcf_rmse)\n",
    "    \n",
    "print('Results: ',ubcf_rmse_results)"
   ]
  },
  {
   "cell_type": "code",
   "execution_count": 340,
   "id": "664b28b0-cf2d-4b06-934c-a673a401f18d",
   "metadata": {},
   "outputs": [
    {
     "data": {
      "text/plain": [
       "Text(0.5, 0, 'k')"
      ]
     },
     "execution_count": 340,
     "metadata": {},
     "output_type": "execute_result"
    },
    {
     "data": {
      "image/png": "[encoded data removed]",
      "text/plain": [
       "<Figure size 432x288 with 1 Axes>"
      ]
     },
     "metadata": {
      "needs_background": "light"
     },
     "output_type": "display_data"
    }
   ],
   "source": [
    "plt.plot(klist,ubcf_rmse_results)\n",
    "plt.ylabel('rmse')\n",
    "plt.xlabel('k')"
   ]
  },
  {
   "cell_type": "markdown",
   "id": "6f565659-169b-42ee-988c-215ff6077b41",
   "metadata": {},
   "source": [
    "Το καλύτερο αποτέλεσμα RMSE = 4.400143582685792 είναι για k = 100 πιο όμοιους χρήστες, ωστόσο η διαφορά με τα υπόλοιπα k είναι πολύ μικρή."
   ]
  },
  {
   "cell_type": "markdown",
   "id": "6b724bd7-05ac-47d9-9482-6307dbe19877",
   "metadata": {},
   "source": [
    "### Βήμα 4"
   ]
  },
  {
   "cell_type": "code",
   "execution_count": 341,
   "id": "54ecf696-e704-4032-853d-05fdbb352aa4",
   "metadata": {},
   "outputs": [],
   "source": [
    "# Item-Based collaborative Filtering (ICF)"
   ]
  },
  {
   "cell_type": "code",
   "execution_count": 346,
   "id": "db4c933d-c55a-4ec9-8e3a-83540596a3c8",
   "metadata": {},
   "outputs": [
    {
     "name": "stdout",
     "output_type": "stream",
     "text": [
      "(139, 40863)\n"
     ]
    }
   ],
   "source": [
    "row1 = traindata.iloc[:]['joke_id']\n",
    "col1 = traindata.iloc[:]['user_id']\n",
    "data1 = traindata.iloc[:]['Rating']\n",
    "\n",
    "# a matrix R with R[row[i],col[i]] = data[i] will be created \n",
    "R1 = sp_sparse.csr_matrix((data1,(row1,col1)))\n",
    "\n",
    "# first value is the joke id (or a range of jokes) , second value is the range of user for this joke\n",
    "#print(R1[138,:])  \n",
    "\n",
    "# transforms back to full matrix\n",
    "print(R1.toarray().shape)"
   ]
  },
  {
   "cell_type": "code",
   "execution_count": 690,
   "id": "489b4ac0-2164-429c-9f40-132f2b04ac46",
   "metadata": {
    "tags": []
   },
   "outputs": [],
   "source": [
    "k = 5 # 1,2,5,7,10 number of closest jokes by cosine distance"
   ]
  },
  {
   "cell_type": "code",
   "execution_count": 691,
   "id": "e610cb09-3506-4ab7-833b-fb911a19c018",
   "metadata": {},
   "outputs": [
    {
     "name": "stdout",
     "output_type": "stream",
     "text": [
      "(139, 139)\n"
     ]
    }
   ],
   "source": [
    "similarities_sparse1 = cosine_similarity(R1, dense_output=False)\n",
    "print(similarities_sparse1.shape)"
   ]
  },
  {
   "cell_type": "code",
   "execution_count": 692,
   "id": "7be96fd3-dc2e-42ab-bc16-74a050541c62",
   "metadata": {},
   "outputs": [
    {
     "data": {
      "text/plain": [
       "array([  0,   1,   3,   4,   5,   6,   7,   8,  11,  16,  18,  20,  23,\n",
       "        24,  31,  38,  41,  42,  43,  50,  51,  55,  58,  61,  65,  69,\n",
       "        78,  80,  81,  82,  91,  92,  94,  96,  97,  98, 107, 108, 109,\n",
       "       116, 117], dtype=int64)"
      ]
     },
     "execution_count": 692,
     "metadata": {},
     "output_type": "execute_result"
    }
   ],
   "source": [
    "index_list1 = np.where(R1.toarray()[:,0] != 0.0)[0] # list with all the jokes that have been rated by user=0\n",
    "index_list1"
   ]
  },
  {
   "cell_type": "code",
   "execution_count": 693,
   "id": "407565bf-6f6e-4c74-aa8f-f25ef49f8321",
   "metadata": {},
   "outputs": [
    {
     "data": {
      "text/plain": [
       "array([ 2.190e-01, -9.281e+00, -6.781e+00,  8.750e-01, -9.656e+00,\n",
       "       -9.031e+00, -7.469e+00, -8.719e+00, -8.781e+00,  8.781e+00,\n",
       "        8.781e+00,  8.781e+00, -2.500e-01,  8.781e+00,  6.200e-02,\n",
       "        6.200e-02,  6.200e-02,  8.781e+00,  8.688e+00,  3.100e-02,\n",
       "        2.190e-01,  8.688e+00,  8.688e+00,  8.781e+00,  9.312e+00,\n",
       "        6.200e-02,  9.812e+00,  8.781e+00,  3.625e+00,  9.312e+00,\n",
       "        7.500e-01, -5.000e+00,  2.000e+00,  2.031e+00,  5.688e+00,\n",
       "        9.656e+00,  1.000e-15,  8.781e+00,  8.781e+00,  8.688e+00,\n",
       "        1.000e-15])"
      ]
     },
     "execution_count": 693,
     "metadata": {},
     "output_type": "execute_result"
    }
   ],
   "source": [
    "R1.toarray()[index_list1,0]"
   ]
  },
  {
   "cell_type": "code",
   "execution_count": 616,
   "id": "2ee8d428-df82-4ac9-bbb5-99e810ee77e7",
   "metadata": {},
   "outputs": [
    {
     "data": {
      "text/plain": [
       "array([23, 21, 20, 37, 39, 10, 28, 40, 26, 27, 13, 34,  7, 17, 36, 29, 15,\n",
       "       24, 38,  9,  8, 14, 18, 35, 25, 22, 32,  5, 33,  6, 12, 30, 16,  4,\n",
       "       31, 19,  3,  2,  1, 11,  0], dtype=int64)"
      ]
     },
     "execution_count": 616,
     "metadata": {},
     "output_type": "execute_result"
    }
   ],
   "source": [
    "sorted_i1 = np.argsort(similarities_sparse1[0,index_list1].toarray(),kind='stable')\n",
    "sorted_i1[0]"
   ]
  },
  {
   "cell_type": "code",
   "execution_count": 623,
   "id": "fe67c9eb-0057-4435-99b9-d771c8ed827f",
   "metadata": {},
   "outputs": [
    {
     "data": {
      "text/plain": [
       "array([50,  4,  3,  1, 20], dtype=int64)"
      ]
     },
     "execution_count": 623,
     "metadata": {},
     "output_type": "execute_result"
    }
   ],
   "source": [
    "if index_list1.size > k+1:\n",
    "    ink_list1 = index_list1[sorted_i1[0][-(k+1):]] # best k(+1 because joke is included with similarity 1) indices\n",
    "else:\n",
    "    ink_lis1t = index_list1[sorted_i1[0][:]]\n",
    "ink_list_n1 = ink_list1[:-1]\n",
    "ink_list_n1"
   ]
  },
  {
   "cell_type": "code",
   "execution_count": 624,
   "id": "6bd3490b-5ffa-478d-a059-1be792613fb5",
   "metadata": {},
   "outputs": [
    {
     "data": {
      "text/plain": [
       "array([ 0.   , -0.031,  6.906, -9.688,  0.   ])"
      ]
     },
     "execution_count": 624,
     "metadata": {},
     "output_type": "execute_result"
    }
   ],
   "source": [
    "R.toarray()[ink_list_n1,0]"
   ]
  },
  {
   "cell_type": "code",
   "execution_count": 625,
   "id": "33e92835-00bc-4128-a5f1-64acb4035e93",
   "metadata": {},
   "outputs": [
    {
     "data": {
      "text/plain": [
       "array([[0.01858824, 0.02783322, 0.03222976, 0.03296558, 0.0464729 ]])"
      ]
     },
     "execution_count": 625,
     "metadata": {},
     "output_type": "execute_result"
    }
   ],
   "source": [
    "similarities_sparse1[0,ink_list_n1].toarray()"
   ]
  },
  {
   "cell_type": "code",
   "execution_count": 626,
   "id": "fa013a12-0f67-4884-b131-cbbccbe07522",
   "metadata": {},
   "outputs": [
    {
     "data": {
      "text/plain": [
       "-0.5787516085672461"
      ]
     },
     "execution_count": 626,
     "metadata": {},
     "output_type": "execute_result"
    }
   ],
   "source": [
    "p1 = ((R1.toarray()[ink_list_n1,0] * similarities_sparse1[0,ink_list_n1].toarray()).sum()) / similarities_sparse1[0,ink_list_n1].toarray().sum() # p for joke = 0 , user = 0\n",
    "p1"
   ]
  },
  {
   "cell_type": "code",
   "execution_count": 627,
   "id": "0e2f6e1e-e766-417b-a9e5-0a3fb7e457ed",
   "metadata": {},
   "outputs": [],
   "source": [
    "def icf(r,c):\n",
    "    index_list1 = np.where(R1.toarray()[:,c] != 0)[0]\n",
    "    sorted_i1 = np.argsort(similarities_sparse1[r,index_list1].toarray())\n",
    "    if index_list1.size > k+1:\n",
    "        ink_list1 = index_list1[sorted_i1[0][-(k+1):]] # best k(+1 because joke is included with similarity 1) indices\n",
    "    else:\n",
    "        ink_list1 = index_list1[sorted_i1[0][:]]\n",
    "    ink_list_n1 = ink_list1[:-1]\n",
    "    \n",
    "    \n",
    "    p = ((R1.toarray()[ink_list_n1,c] * similarities_sparse1[r,ink_list_n1].toarray()).sum()) / similarities_sparse1[r,ink_list_n1].toarray().sum()\n",
    "    return(p)"
   ]
  },
  {
   "cell_type": "code",
   "execution_count": 628,
   "id": "0339370f-cd84-4de4-906f-8382815d83d5",
   "metadata": {},
   "outputs": [
    {
     "name": "stdout",
     "output_type": "stream",
     "text": [
      "-3.0045033336513853\n"
     ]
    }
   ],
   "source": [
    "print(icf(0,1))"
   ]
  },
  {
   "cell_type": "code",
   "execution_count": 403,
   "id": "be5b6d8e-6103-43f2-a33b-8c196240e941",
   "metadata": {},
   "outputs": [
    {
     "name": "stdout",
     "output_type": "stream",
     "text": [
      "Time taken: 346.240997 seconds \n"
     ]
    }
   ],
   "source": [
    "k = 7\n",
    "start_time = time.time()\n",
    "predicted_results = testdata[['user_id','joke_id']].apply(lambda x: icf(x.joke_id, x.user_id), axis=1)\n",
    "end_time = time.time()\n",
    "print('Time taken: %f seconds ' %(end_time-start_time))"
   ]
  },
  {
   "cell_type": "code",
   "execution_count": 404,
   "id": "be940c3f-4c9c-442d-870b-ccd69f75c921",
   "metadata": {},
   "outputs": [
    {
     "data": {
      "text/plain": [
       "13.095156745175494"
      ]
     },
     "execution_count": 404,
     "metadata": {},
     "output_type": "execute_result"
    }
   ],
   "source": [
    "mean_squared_error(y_true=testdata.Rating,y_pred=predicted_results,squared=False)"
   ]
  },
  {
   "cell_type": "code",
   "execution_count": 401,
   "id": "889ba415-4de3-4f9e-869e-2e3b388f8d67",
   "metadata": {},
   "outputs": [
    {
     "name": "stdout",
     "output_type": "stream",
     "text": [
      "Time taken: 349.724787 seconds for k=1\n",
      "Time taken: 384.347673 seconds for k=2\n",
      "Time taken: 351.298664 seconds for k=5\n",
      "Time taken: 393.222422 seconds for k=7\n",
      "Time taken: 392.805556 seconds for k=10\n",
      "Results:  [5.4190255797514, 4.707589212323444, 4.41912343122678, 13.095156745175494, 7.795283681364708]\n"
     ]
    }
   ],
   "source": [
    "icf_rmse_results = []\n",
    "klist = [1,2,5,7,10]\n",
    "for i in klist:\n",
    "    k = i\n",
    "    start_time = time.time()\n",
    "    predicted_results = testdata[['user_id','joke_id']].apply(lambda x: icf(x.joke_id, x.user_id), axis=1)\n",
    "    end_time = time.time()\n",
    "    print('Time taken: %f seconds for k=%d' %(end_time-start_time,k))\n",
    "    \n",
    "    icf_rmse = mean_squared_error(y_true=testdata.Rating,y_pred=predicted_results,squared=False)\n",
    "    icf_rmse_results.append(icf_rmse)\n",
    "    \n",
    "print('Results: ',icf_rmse_results)"
   ]
  },
  {
   "cell_type": "code",
   "execution_count": 402,
   "id": "3f4ed614-a18a-463c-85d7-07fd82ac4f37",
   "metadata": {},
   "outputs": [
    {
     "data": {
      "text/plain": [
       "Text(0.5, 0, 'k')"
      ]
     },
     "execution_count": 402,
     "metadata": {},
     "output_type": "execute_result"
    },
    {
     "data": {
      "image/png": "[encoded data removed]",
      "text/plain": [
       "<Figure size 432x288 with 1 Axes>"
      ]
     },
     "metadata": {
      "needs_background": "light"
     },
     "output_type": "display_data"
    }
   ],
   "source": [
    "plt.plot(klist,icf_rmse_results)\n",
    "plt.ylabel('rmse')\n",
    "plt.xlabel('k')"
   ]
  },
  {
   "cell_type": "markdown",
   "id": "29b2362c-23ff-4c1f-8b04-a5cb342475fb",
   "metadata": {},
   "source": [
    "Το καλύτερο αποτέλεσμα RMSE = 4.41912343122678 είναι για k = 5 πιο όμοιους αστεία."
   ]
  },
  {
   "cell_type": "markdown",
   "id": "9ed00d96-bc75-4613-8a7c-b4a31a10008e",
   "metadata": {},
   "source": [
    "### Βήμα 5"
   ]
  },
  {
   "cell_type": "code",
   "execution_count": 123,
   "id": "0b094fce-db59-4f22-a342-3b5d4f08e978",
   "metadata": {},
   "outputs": [],
   "source": [
    "from numpy.linalg import svd\n",
    "import scipy.sparse.linalg as sp_linalg\n",
    "from sklearn.metrics import mean_squared_error"
   ]
  },
  {
   "cell_type": "code",
   "execution_count": 125,
   "id": "f26f3363-b8c7-4e5e-b9ff-25a4740becbc",
   "metadata": {},
   "outputs": [],
   "source": [
    "# low rank approximation"
   ]
  },
  {
   "cell_type": "code",
   "execution_count": 282,
   "id": "3a7485c1-a0bf-4fc9-bdf8-ed2204cc345b",
   "metadata": {},
   "outputs": [
    {
     "name": "stdout",
     "output_type": "stream",
     "text": [
      "(40863, 20) (20,) (20, 139)\n",
      "[ 560.79488461  566.07021283  583.22312471  588.38289369  596.18164849\n",
      "  619.66670067  635.6347452   657.11518826  668.40708494  722.44737933\n",
      "  738.30996039  751.23053009  774.90996988  787.02226257  814.09366187\n",
      "  839.55585044  928.20259008 1023.13992684 1330.32347276 2408.83140829]\n"
     ]
    },
    {
     "data": {
      "image/png": "[encoded data removed]",
      "text/plain": [
       "<Figure size 432x288 with 1 Axes>"
      ]
     },
     "metadata": {
      "needs_background": "light"
     },
     "output_type": "display_data"
    }
   ],
   "source": [
    "K = 20 # K= 2 to 20\n",
    "\n",
    "data2 = R.toarray().copy()\n",
    "\n",
    "U_k,s_k,V_k = sp_linalg.svds(data2, K, which = 'LM')\n",
    "print (U_k.shape, s_k.shape, V_k.shape)\n",
    "print(s_k)\n",
    "plt.plot(s_k[::-1])\n",
    "plt.ylabel('eigenvalue value')\n",
    "plt.xlabel('number of eigenvalues')\n",
    "S_k = np.diag(s_k)"
   ]
  },
  {
   "cell_type": "code",
   "execution_count": 283,
   "id": "85c73557-34c2-4759-9d0e-765b461f21f4",
   "metadata": {},
   "outputs": [
    {
     "name": "stdout",
     "output_type": "stream",
     "text": [
      "5739.987799671699\n",
      "5210.085525863222\n",
      "5037.383313252462\n",
      "4932.384345805005\n",
      "4844.260034981204\n",
      "4770.95391515217\n",
      "4700.984234200568\n",
      "4634.635770846977\n",
      "4569.394190370951\n",
      "4507.218206128881\n",
      "4446.33718469991\n",
      "4387.252459585617\n",
      "4336.0369132358355\n",
      "4285.955639328923\n",
      "4238.55921428317\n",
      "4193.017695296262\n",
      "4150.417429015079\n",
      "4108.499775524478\n",
      "4066.8933096758515\n",
      "4027.305017804589\n",
      "3988.0690570537913\n"
     ]
    },
    {
     "data": {
      "text/plain": [
       "Text(0.5, 0, 'rank')"
      ]
     },
     "execution_count": 283,
     "metadata": {},
     "output_type": "execute_result"
    },
    {
     "data": {
      "image/png": "[encoded data removed]",
      "text/plain": [
       "<Figure size 432x288 with 1 Axes>"
      ]
     },
     "metadata": {
      "needs_background": "light"
     },
     "output_type": "display_data"
    }
   ],
   "source": [
    "reconstruction_error = []\n",
    "for k in range(K,0,-1):\n",
    "    data_k = U_k[:,k:].dot(S_k[k:,k:]).dot(V_k[k:,:])\n",
    "    error = np.linalg.norm(data_k-data2,ord='fro')\n",
    "    reconstruction_error.append(error)\n",
    "    print(error)\n",
    "data_k = U_k.dot(S_k).dot(V_k)\n",
    "print(np.linalg.norm(data_k-data2,ord='fro'))\n",
    "\n",
    "plt.plot(1+np.array(range(K)),reconstruction_error)\n",
    "plt.ylabel('rank-k reconstruction error')\n",
    "plt.xlabel('rank')"
   ]
  },
  {
   "cell_type": "code",
   "execution_count": 284,
   "id": "2e0178a4-4d25-4422-8e10-6475de48ffac",
   "metadata": {},
   "outputs": [],
   "source": [
    "# compare test values to data_k approximation values with rmse"
   ]
  },
  {
   "cell_type": "code",
   "execution_count": 285,
   "id": "dfd29739-b3c6-45ef-84a3-47f01fb11ec9",
   "metadata": {},
   "outputs": [],
   "source": [
    "testdata['predicted_k'+str(K)] = data_k[testdata['user_id'],testdata['joke_id']]"
   ]
  },
  {
   "cell_type": "code",
   "execution_count": 286,
   "id": "7c63fef5-5d31-4971-be6b-cbf9810df178",
   "metadata": {},
   "outputs": [
    {
     "data": {
      "text/html": [
       "<div>\n",
       "<style scoped>\n",
       "    .dataframe tbody tr th:only-of-type {\n",
       "        vertical-align: middle;\n",
       "    }\n",
       "\n",
       "    .dataframe tbody tr th {\n",
       "        vertical-align: top;\n",
       "    }\n",
       "\n",
       "    .dataframe thead th {\n",
       "        text-align: right;\n",
       "    }\n",
       "</style>\n",
       "<table border=\"1\" class=\"dataframe\">\n",
       "  <thead>\n",
       "    <tr style=\"text-align: right;\">\n",
       "      <th></th>\n",
       "      <th>index</th>\n",
       "      <th>id</th>\n",
       "      <th>user_id</th>\n",
       "      <th>joke_id</th>\n",
       "      <th>Rating</th>\n",
       "      <th>predicted_k2</th>\n",
       "      <th>predicted_k3</th>\n",
       "      <th>predicted_k4</th>\n",
       "      <th>predicted_k5</th>\n",
       "      <th>predicted_k6</th>\n",
       "      <th>...</th>\n",
       "      <th>predicted_k11</th>\n",
       "      <th>predicted_k12</th>\n",
       "      <th>predicted_k13</th>\n",
       "      <th>predicted_k14</th>\n",
       "      <th>predicted_k15</th>\n",
       "      <th>predicted_k16</th>\n",
       "      <th>predicted_k17</th>\n",
       "      <th>predicted_k18</th>\n",
       "      <th>predicted_k19</th>\n",
       "      <th>predicted_k20</th>\n",
       "    </tr>\n",
       "  </thead>\n",
       "  <tbody>\n",
       "    <tr>\n",
       "      <th>0</th>\n",
       "      <td>948837</td>\n",
       "      <td>39893_22</td>\n",
       "      <td>39892</td>\n",
       "      <td>21</td>\n",
       "      <td>-0.281</td>\n",
       "      <td>0.576068</td>\n",
       "      <td>0.576068</td>\n",
       "      <td>0.905420</td>\n",
       "      <td>0.904283</td>\n",
       "      <td>0.949295</td>\n",
       "      <td>...</td>\n",
       "      <td>0.858095</td>\n",
       "      <td>1.111962</td>\n",
       "      <td>1.395229</td>\n",
       "      <td>1.455563</td>\n",
       "      <td>1.438508</td>\n",
       "      <td>1.671203</td>\n",
       "      <td>2.089527</td>\n",
       "      <td>1.857076</td>\n",
       "      <td>1.884208</td>\n",
       "      <td>1.310657</td>\n",
       "    </tr>\n",
       "    <tr>\n",
       "      <th>1</th>\n",
       "      <td>502194</td>\n",
       "      <td>25778_7</td>\n",
       "      <td>25777</td>\n",
       "      <td>6</td>\n",
       "      <td>-7.031</td>\n",
       "      <td>-2.696052</td>\n",
       "      <td>-2.696052</td>\n",
       "      <td>-4.132730</td>\n",
       "      <td>-2.488285</td>\n",
       "      <td>-2.798875</td>\n",
       "      <td>...</td>\n",
       "      <td>-0.226821</td>\n",
       "      <td>-0.346196</td>\n",
       "      <td>-0.372340</td>\n",
       "      <td>-0.421047</td>\n",
       "      <td>-0.176808</td>\n",
       "      <td>-0.312606</td>\n",
       "      <td>-0.429485</td>\n",
       "      <td>-0.501017</td>\n",
       "      <td>-0.499463</td>\n",
       "      <td>-0.436023</td>\n",
       "    </tr>\n",
       "    <tr>\n",
       "      <th>2</th>\n",
       "      <td>727692</td>\n",
       "      <td>24147_76</td>\n",
       "      <td>24146</td>\n",
       "      <td>75</td>\n",
       "      <td>5.750</td>\n",
       "      <td>0.862005</td>\n",
       "      <td>0.862005</td>\n",
       "      <td>0.870851</td>\n",
       "      <td>0.958490</td>\n",
       "      <td>0.961148</td>\n",
       "      <td>...</td>\n",
       "      <td>0.936387</td>\n",
       "      <td>0.890929</td>\n",
       "      <td>0.808295</td>\n",
       "      <td>0.826624</td>\n",
       "      <td>0.969157</td>\n",
       "      <td>0.962792</td>\n",
       "      <td>0.968208</td>\n",
       "      <td>0.884359</td>\n",
       "      <td>0.986389</td>\n",
       "      <td>0.987317</td>\n",
       "    </tr>\n",
       "    <tr>\n",
       "      <th>3</th>\n",
       "      <td>155191</td>\n",
       "      <td>4374_9</td>\n",
       "      <td>4373</td>\n",
       "      <td>8</td>\n",
       "      <td>-4.125</td>\n",
       "      <td>2.393193</td>\n",
       "      <td>2.393193</td>\n",
       "      <td>0.076425</td>\n",
       "      <td>-0.778617</td>\n",
       "      <td>-0.325651</td>\n",
       "      <td>...</td>\n",
       "      <td>-1.338863</td>\n",
       "      <td>-0.719061</td>\n",
       "      <td>0.232070</td>\n",
       "      <td>0.000368</td>\n",
       "      <td>0.207991</td>\n",
       "      <td>0.139147</td>\n",
       "      <td>0.133379</td>\n",
       "      <td>0.050675</td>\n",
       "      <td>0.013439</td>\n",
       "      <td>-0.005607</td>\n",
       "    </tr>\n",
       "    <tr>\n",
       "      <th>4</th>\n",
       "      <td>897456</td>\n",
       "      <td>18377_120</td>\n",
       "      <td>18376</td>\n",
       "      <td>119</td>\n",
       "      <td>-2.500</td>\n",
       "      <td>0.344290</td>\n",
       "      <td>0.344290</td>\n",
       "      <td>0.318921</td>\n",
       "      <td>0.282692</td>\n",
       "      <td>0.314829</td>\n",
       "      <td>...</td>\n",
       "      <td>-0.071873</td>\n",
       "      <td>0.005156</td>\n",
       "      <td>-0.309307</td>\n",
       "      <td>-0.220968</td>\n",
       "      <td>-0.206857</td>\n",
       "      <td>-0.070626</td>\n",
       "      <td>-0.174274</td>\n",
       "      <td>-0.134596</td>\n",
       "      <td>-0.367548</td>\n",
       "      <td>-0.344399</td>\n",
       "    </tr>\n",
       "    <tr>\n",
       "      <th>...</th>\n",
       "      <td>...</td>\n",
       "      <td>...</td>\n",
       "      <td>...</td>\n",
       "      <td>...</td>\n",
       "      <td>...</td>\n",
       "      <td>...</td>\n",
       "      <td>...</td>\n",
       "      <td>...</td>\n",
       "      <td>...</td>\n",
       "      <td>...</td>\n",
       "      <td>...</td>\n",
       "      <td>...</td>\n",
       "      <td>...</td>\n",
       "      <td>...</td>\n",
       "      <td>...</td>\n",
       "      <td>...</td>\n",
       "      <td>...</td>\n",
       "      <td>...</td>\n",
       "      <td>...</td>\n",
       "      <td>...</td>\n",
       "      <td>...</td>\n",
       "    </tr>\n",
       "    <tr>\n",
       "      <th>9995</th>\n",
       "      <td>588150</td>\n",
       "      <td>24968_123</td>\n",
       "      <td>24967</td>\n",
       "      <td>122</td>\n",
       "      <td>4.312</td>\n",
       "      <td>1.984136</td>\n",
       "      <td>1.984136</td>\n",
       "      <td>1.933578</td>\n",
       "      <td>1.994059</td>\n",
       "      <td>1.993248</td>\n",
       "      <td>...</td>\n",
       "      <td>2.082176</td>\n",
       "      <td>2.120875</td>\n",
       "      <td>2.081653</td>\n",
       "      <td>1.912500</td>\n",
       "      <td>1.927814</td>\n",
       "      <td>2.155712</td>\n",
       "      <td>2.154310</td>\n",
       "      <td>2.373785</td>\n",
       "      <td>2.415524</td>\n",
       "      <td>2.399607</td>\n",
       "    </tr>\n",
       "    <tr>\n",
       "      <th>9996</th>\n",
       "      <td>376437</td>\n",
       "      <td>27371_3</td>\n",
       "      <td>27370</td>\n",
       "      <td>2</td>\n",
       "      <td>-4.188</td>\n",
       "      <td>-2.968283</td>\n",
       "      <td>-2.968283</td>\n",
       "      <td>-2.911530</td>\n",
       "      <td>-3.315585</td>\n",
       "      <td>-3.769102</td>\n",
       "      <td>...</td>\n",
       "      <td>-0.031354</td>\n",
       "      <td>-0.169271</td>\n",
       "      <td>-0.172530</td>\n",
       "      <td>-0.101459</td>\n",
       "      <td>-0.107072</td>\n",
       "      <td>-0.091164</td>\n",
       "      <td>-0.059685</td>\n",
       "      <td>-0.099406</td>\n",
       "      <td>0.032200</td>\n",
       "      <td>0.028100</td>\n",
       "    </tr>\n",
       "    <tr>\n",
       "      <th>9997</th>\n",
       "      <td>393810</td>\n",
       "      <td>23050_50</td>\n",
       "      <td>23049</td>\n",
       "      <td>49</td>\n",
       "      <td>-0.969</td>\n",
       "      <td>0.381786</td>\n",
       "      <td>0.381786</td>\n",
       "      <td>0.381033</td>\n",
       "      <td>0.379264</td>\n",
       "      <td>0.402150</td>\n",
       "      <td>...</td>\n",
       "      <td>0.513752</td>\n",
       "      <td>0.427457</td>\n",
       "      <td>0.352551</td>\n",
       "      <td>0.428284</td>\n",
       "      <td>0.840630</td>\n",
       "      <td>0.866463</td>\n",
       "      <td>0.838188</td>\n",
       "      <td>0.781463</td>\n",
       "      <td>0.648804</td>\n",
       "      <td>0.634088</td>\n",
       "    </tr>\n",
       "    <tr>\n",
       "      <th>9998</th>\n",
       "      <td>97076</td>\n",
       "      <td>247_9</td>\n",
       "      <td>246</td>\n",
       "      <td>8</td>\n",
       "      <td>6.312</td>\n",
       "      <td>-1.445686</td>\n",
       "      <td>-1.445686</td>\n",
       "      <td>0.836662</td>\n",
       "      <td>1.160646</td>\n",
       "      <td>2.144949</td>\n",
       "      <td>...</td>\n",
       "      <td>-0.427741</td>\n",
       "      <td>0.100175</td>\n",
       "      <td>-0.077624</td>\n",
       "      <td>0.111766</td>\n",
       "      <td>0.287287</td>\n",
       "      <td>0.130787</td>\n",
       "      <td>-0.000615</td>\n",
       "      <td>0.023555</td>\n",
       "      <td>0.040316</td>\n",
       "      <td>0.043244</td>\n",
       "    </tr>\n",
       "    <tr>\n",
       "      <th>9999</th>\n",
       "      <td>301838</td>\n",
       "      <td>22218_73</td>\n",
       "      <td>22217</td>\n",
       "      <td>72</td>\n",
       "      <td>2.688</td>\n",
       "      <td>0.743414</td>\n",
       "      <td>0.743414</td>\n",
       "      <td>0.189598</td>\n",
       "      <td>0.289760</td>\n",
       "      <td>0.307323</td>\n",
       "      <td>...</td>\n",
       "      <td>0.189636</td>\n",
       "      <td>0.714832</td>\n",
       "      <td>0.655778</td>\n",
       "      <td>0.903036</td>\n",
       "      <td>1.634100</td>\n",
       "      <td>1.253523</td>\n",
       "      <td>1.064882</td>\n",
       "      <td>1.067345</td>\n",
       "      <td>1.021171</td>\n",
       "      <td>0.930907</td>\n",
       "    </tr>\n",
       "  </tbody>\n",
       "</table>\n",
       "<p>10000 rows × 24 columns</p>\n",
       "</div>"
      ],
      "text/plain": [
       "       index         id  user_id  joke_id  Rating  predicted_k2  predicted_k3  \\\n",
       "0     948837   39893_22    39892       21  -0.281      0.576068      0.576068   \n",
       "1     502194    25778_7    25777        6  -7.031     -2.696052     -2.696052   \n",
       "2     727692   24147_76    24146       75   5.750      0.862005      0.862005   \n",
       "3     155191     4374_9     4373        8  -4.125      2.393193      2.393193   \n",
       "4     897456  18377_120    18376      119  -2.500      0.344290      0.344290   \n",
       "...      ...        ...      ...      ...     ...           ...           ...   \n",
       "9995  588150  24968_123    24967      122   4.312      1.984136      1.984136   \n",
       "9996  376437    27371_3    27370        2  -4.188     -2.968283     -2.968283   \n",
       "9997  393810   23050_50    23049       49  -0.969      0.381786      0.381786   \n",
       "9998   97076      247_9      246        8   6.312     -1.445686     -1.445686   \n",
       "9999  301838   22218_73    22217       72   2.688      0.743414      0.743414   \n",
       "\n",
       "      predicted_k4  predicted_k5  predicted_k6  ...  predicted_k11  \\\n",
       "0         0.905420      0.904283      0.949295  ...       0.858095   \n",
       "1        -4.132730     -2.488285     -2.798875  ...      -0.226821   \n",
       "2         0.870851      0.958490      0.961148  ...       0.936387   \n",
       "3         0.076425     -0.778617     -0.325651  ...      -1.338863   \n",
       "4         0.318921      0.282692      0.314829  ...      -0.071873   \n",
       "...            ...           ...           ...  ...            ...   \n",
       "9995      1.933578      1.994059      1.993248  ...       2.082176   \n",
       "9996     -2.911530     -3.315585     -3.769102  ...      -0.031354   \n",
       "9997      0.381033      0.379264      0.402150  ...       0.513752   \n",
       "9998      0.836662      1.160646      2.144949  ...      -0.427741   \n",
       "9999      0.189598      0.289760      0.307323  ...       0.189636   \n",
       "\n",
       "      predicted_k12  predicted_k13  predicted_k14  predicted_k15  \\\n",
       "0          1.111962       1.395229       1.455563       1.438508   \n",
       "1         -0.346196      -0.372340      -0.421047      -0.176808   \n",
       "2          0.890929       0.808295       0.826624       0.969157   \n",
       "3         -0.719061       0.232070       0.000368       0.207991   \n",
       "4          0.005156      -0.309307      -0.220968      -0.206857   \n",
       "...             ...            ...            ...            ...   \n",
       "9995       2.120875       2.081653       1.912500       1.927814   \n",
       "9996      -0.169271      -0.172530      -0.101459      -0.107072   \n",
       "9997       0.427457       0.352551       0.428284       0.840630   \n",
       "9998       0.100175      -0.077624       0.111766       0.287287   \n",
       "9999       0.714832       0.655778       0.903036       1.634100   \n",
       "\n",
       "      predicted_k16  predicted_k17  predicted_k18  predicted_k19  \\\n",
       "0          1.671203       2.089527       1.857076       1.884208   \n",
       "1         -0.312606      -0.429485      -0.501017      -0.499463   \n",
       "2          0.962792       0.968208       0.884359       0.986389   \n",
       "3          0.139147       0.133379       0.050675       0.013439   \n",
       "4         -0.070626      -0.174274      -0.134596      -0.367548   \n",
       "...             ...            ...            ...            ...   \n",
       "9995       2.155712       2.154310       2.373785       2.415524   \n",
       "9996      -0.091164      -0.059685      -0.099406       0.032200   \n",
       "9997       0.866463       0.838188       0.781463       0.648804   \n",
       "9998       0.130787      -0.000615       0.023555       0.040316   \n",
       "9999       1.253523       1.064882       1.067345       1.021171   \n",
       "\n",
       "      predicted_k20  \n",
       "0          1.310657  \n",
       "1         -0.436023  \n",
       "2          0.987317  \n",
       "3         -0.005607  \n",
       "4         -0.344399  \n",
       "...             ...  \n",
       "9995       2.399607  \n",
       "9996       0.028100  \n",
       "9997       0.634088  \n",
       "9998       0.043244  \n",
       "9999       0.930907  \n",
       "\n",
       "[10000 rows x 24 columns]"
      ]
     },
     "execution_count": 286,
     "metadata": {},
     "output_type": "execute_result"
    }
   ],
   "source": [
    "testdata"
   ]
  },
  {
   "cell_type": "code",
   "execution_count": 289,
   "id": "cb12f15d-5034-471c-928f-81ac2567a248",
   "metadata": {},
   "outputs": [],
   "source": [
    "rmse_l = []\n",
    "rmse_l.append(mean_squared_error(y_true=testdata.Rating,y_pred=testdata.predicted_k2,squared=False))\n",
    "rmse_l.append(mean_squared_error(y_true=testdata.Rating,y_pred=testdata.predicted_k3,squared=False))\n",
    "rmse_l.append(mean_squared_error(y_true=testdata.Rating,y_pred=testdata.predicted_k4,squared=False))\n",
    "rmse_l.append(mean_squared_error(y_true=testdata.Rating,y_pred=testdata.predicted_k5,squared=False))\n",
    "rmse_l.append(mean_squared_error(y_true=testdata.Rating,y_pred=testdata.predicted_k6,squared=False))\n",
    "rmse_l.append(mean_squared_error(y_true=testdata.Rating,y_pred=testdata.predicted_k7,squared=False))\n",
    "rmse_l.append(mean_squared_error(y_true=testdata.Rating,y_pred=testdata.predicted_k8,squared=False))\n",
    "rmse_l.append(mean_squared_error(y_true=testdata.Rating,y_pred=testdata.predicted_k9,squared=False))\n",
    "rmse_l.append(mean_squared_error(y_true=testdata.Rating,y_pred=testdata.predicted_k10,squared=False))\n",
    "rmse_l.append(mean_squared_error(y_true=testdata.Rating,y_pred=testdata.predicted_k11,squared=False))\n",
    "rmse_l.append(mean_squared_error(y_true=testdata.Rating,y_pred=testdata.predicted_k12,squared=False))\n",
    "rmse_l.append(mean_squared_error(y_true=testdata.Rating,y_pred=testdata.predicted_k13,squared=False))\n",
    "rmse_l.append(mean_squared_error(y_true=testdata.Rating,y_pred=testdata.predicted_k14,squared=False))\n",
    "rmse_l.append(mean_squared_error(y_true=testdata.Rating,y_pred=testdata.predicted_k15,squared=False))\n",
    "rmse_l.append(mean_squared_error(y_true=testdata.Rating,y_pred=testdata.predicted_k16,squared=False))\n",
    "rmse_l.append(mean_squared_error(y_true=testdata.Rating,y_pred=testdata.predicted_k17,squared=False))\n",
    "rmse_l.append(mean_squared_error(y_true=testdata.Rating,y_pred=testdata.predicted_k18,squared=False))\n",
    "rmse_l.append(mean_squared_error(y_true=testdata.Rating,y_pred=testdata.predicted_k19,squared=False))\n",
    "rmse_l.append(mean_squared_error(y_true=testdata.Rating,y_pred=testdata.predicted_k20,squared=False))"
   ]
  },
  {
   "cell_type": "code",
   "execution_count": 295,
   "id": "a5a5592f-9965-48bf-8c4e-f718e5fbe3d2",
   "metadata": {},
   "outputs": [
    {
     "data": {
      "text/plain": [
       "[<matplotlib.lines.Line2D at 0x133058738e0>]"
      ]
     },
     "execution_count": 295,
     "metadata": {},
     "output_type": "execute_result"
    },
    {
     "data": {
      "image/png": "[encoded data removed]",
      "text/plain": [
       "<Figure size 432x288 with 1 Axes>"
      ]
     },
     "metadata": {
      "needs_background": "light"
     },
     "output_type": "display_data"
    }
   ],
   "source": [
    "plt.plot(2 + np.array(range(K-1)),rmse_l)"
   ]
  },
  {
   "cell_type": "code",
   "execution_count": 629,
   "id": "7af51818-5ebc-441c-8df3-18c1f2f38cee",
   "metadata": {},
   "outputs": [
    {
     "name": "stdout",
     "output_type": "stream",
     "text": [
      "Best RMSE for k=4:  4.634031834770969\n"
     ]
    }
   ],
   "source": [
    "best_rmse = mean_squared_error(y_true=testdata.Rating,y_pred=testdata.predicted_k4,squared=False)\n",
    "print('Best RMSE for k=4: ',best_rmse)"
   ]
  },
  {
   "cell_type": "markdown",
   "id": "fec81ed1-9aca-4284-8576-c0cf0edef99c",
   "metadata": {},
   "source": [
    "Φαίνεται ότι όσο μεγαλώνει το rank k , εισάγεται θόρυβος και αυξάνεται το συνολικό σφάλμα. Για k = 4 υπάρχει το ελάχιστο σφάλμα"
   ]
  },
  {
   "cell_type": "markdown",
   "id": "a89856b9-f3ac-4d46-8567-40f2349b6ee6",
   "metadata": {},
   "source": [
    "### Βήμα 6"
   ]
  },
  {
   "cell_type": "markdown",
   "id": "9e6e8504-2f79-46b7-82b7-faad3bafc79f",
   "metadata": {},
   "source": [
    "|Algorithm            |RMSE                 | Time(s)     |\n",
    "|:-:                  |:-:                  | :-:         |\n",
    "| User Average        | 4.52416766013762    | ~0          |\n",
    "| Joke Average        | 5.049905611823062   | ~0          |\n",
    "| User Based Coll. F. | 4.400143582685792   | 383.542956  |\n",
    "| Joke Based Coll. F. | 4.41912343122678    | 351.298664  |\n",
    "| SVD                 | 4.634031834770969   | ~0          |\n"
   ]
  },
  {
   "cell_type": "markdown",
   "id": "cbf5b3a2-4e34-4059-a8c2-e0fdb3ec788c",
   "metadata": {},
   "source": [
    "Τα RMSE των διαφορετικών αλγορίθμων είναι αρκέτα κοντά μεταξύ τους, με το Joke Average να έχει λίγο μεγαλύτερο RMSE. Επίσης οι περισσότεροι αλγόριθμοι είναι αρκετά γρήγοροι με τα UCF, ICF να είναι τα μόνα που παίρνουν περισσότερο χρόνο."
   ]
  },
  {
   "cell_type": "markdown",
   "id": "7b6d6b6b-c39f-4d53-a16b-75294bd4374a",
   "metadata": {},
   "source": [
    "## Ερώτηση 4"
   ]
  },
  {
   "cell_type": "code",
   "execution_count": 728,
   "id": "b1138916-ecb8-49a1-9b6f-09d8c8cfdf67",
   "metadata": {},
   "outputs": [],
   "source": [
    "from sklearn.cluster import KMeans\n",
    "import sklearn.metrics as metrics"
   ]
  },
  {
   "cell_type": "code",
   "execution_count": 639,
   "id": "11f1cd59-edc0-46a1-8d4e-f7400d2cade4",
   "metadata": {},
   "outputs": [
    {
     "data": {
      "text/plain": [
       "array([[ 0.219, -9.281,  0.   , ...,  0.   ,  0.   ,  0.   ],\n",
       "       [-9.688,  9.938,  9.531, ...,  0.   ,  0.   ,  0.   ],\n",
       "       [ 0.   ,  0.   , -7.219, ...,  0.   ,  0.   ,  0.   ],\n",
       "       ...,\n",
       "       [ 0.   , -4.594, -4.312, ...,  0.   ,  0.   ,  0.   ],\n",
       "       [ 0.   , -4.438,  1.531, ...,  0.   ,  0.   ,  0.   ],\n",
       "       [ 0.   , -7.906,  0.   , ...,  8.281,  0.   ,  0.   ]])"
      ]
     },
     "execution_count": 639,
     "metadata": {},
     "output_type": "execute_result"
    }
   ],
   "source": [
    "R.toarray()"
   ]
  },
  {
   "cell_type": "code",
   "execution_count": 739,
   "id": "6b517f5c-ba72-4c11-baf5-cbe63599721d",
   "metadata": {},
   "outputs": [
    {
     "name": "stdout",
     "output_type": "stream",
     "text": [
      "The total error of the clustering is:  25533057.825194586\n",
      "\n",
      "Cluster labels\n",
      "[3 5 4 ... 1 1 9]\n",
      "\n",
      " Cluster Centroids\n",
      "[[-0.03272203 -2.53533916 -2.51808392 ... -2.46091783 -2.13622028\n",
      "  -2.43367657]\n",
      " [-0.01258065 -0.69984516 -0.34330544 ... -0.0487329   0.23615171\n",
      "   0.07979226]\n",
      " [-0.01476749 -0.36351884  0.5291873  ...  0.43365318  1.85057137\n",
      "   0.80607793]\n",
      " ...\n",
      " [ 0.02001195 -0.15385783  1.55612903 ...  4.37022461  4.6753859\n",
      "   4.65117443]\n",
      " [-0.03128219 -5.18786411 -1.73160552 ...  0.11467494  0.34584242\n",
      "   0.19359406]\n",
      " [-0.00806647 -1.03573117  0.40322489 ...  2.42293796  3.66983604\n",
      "   2.68872009]]\n"
     ]
    }
   ],
   "source": [
    "kmeans = KMeans(n_clusters=10)\n",
    "kmeans.fit_predict(R.toarray())\n",
    "\n",
    "centroids = kmeans.cluster_centers_\n",
    "kmeans_labels = kmeans.labels_\n",
    "error = kmeans.inertia_\n",
    "\n",
    "print (\"The total error of the clustering is: \", error)\n",
    "print ('\\nCluster labels')\n",
    "print(kmeans_labels)\n",
    "print ('\\n Cluster Centroids')\n",
    "print (centroids)"
   ]
  },
  {
   "cell_type": "code",
   "execution_count": 746,
   "id": "67eea321-1f28-44e9-b08f-7c13e076fd26",
   "metadata": {},
   "outputs": [
    {
     "name": "stdout",
     "output_type": "stream",
     "text": [
      "Time for k=2 : 28.194114 seconds\n",
      "Time for k=3 : 33.602919 seconds\n",
      "Time for k=4 : 30.962008 seconds\n",
      "Time for k=5 : 30.887670 seconds\n",
      "Time for k=6 : 30.566803 seconds\n",
      "Time for k=7 : 30.093318 seconds\n",
      "Time for k=8 : 30.813646 seconds\n",
      "Time for k=9 : 32.348768 seconds\n",
      "Time for k=10 : 32.033838 seconds\n"
     ]
    }
   ],
   "source": [
    "error = np.zeros(11)\n",
    "sh_score = np.zeros(11)\n",
    "for k in range(2,11):\n",
    "    start_time = time.time()\n",
    "    kmeans = KMeans(init='k-means++', n_clusters=k, n_init=10)\n",
    "    kmeans.fit_predict(R.toarray())\n",
    "    error[k] = kmeans.inertia_\n",
    "    if k>1: sh_score[k]= metrics.silhouette_score(R.toarray(), kmeans.labels_)\n",
    "    end_time = time.time()\n",
    "    print('Time for k=%d : %f seconds'%(k,end_time-start_time))"
   ]
  },
  {
   "cell_type": "code",
   "execution_count": 749,
   "id": "f5dbeb26-c0d6-40c5-abcb-6498689c45ed",
   "metadata": {},
   "outputs": [
    {
     "data": {
      "text/plain": [
       "Text(0, 0.5, 'Error')"
      ]
     },
     "execution_count": 749,
     "metadata": {},
     "output_type": "execute_result"
    },
    {
     "data": {
      "image/png": "[encoded data removed]",
      "text/plain": [
       "<Figure size 432x288 with 1 Axes>"
      ]
     },
     "metadata": {
      "needs_background": "light"
     },
     "output_type": "display_data"
    }
   ],
   "source": [
    "plt.plot(range(2,len(error)),error[2:])\n",
    "plt.xlabel('Number of clusters')\n",
    "plt.ylabel('Error')"
   ]
  },
  {
   "cell_type": "code",
   "execution_count": 753,
   "id": "f3cf1cb9-efae-411d-ae3d-cbd1339d1d8c",
   "metadata": {},
   "outputs": [
    {
     "data": {
      "text/plain": [
       "Text(0, 0.5, 'silhouette score')"
      ]
     },
     "execution_count": 753,
     "metadata": {},
     "output_type": "execute_result"
    },
    {
     "data": {
      "image/png": "[encoded data removed]",
      "text/plain": [
       "<Figure size 432x288 with 1 Axes>"
      ]
     },
     "metadata": {
      "needs_background": "light"
     },
     "output_type": "display_data"
    }
   ],
   "source": [
    "plt.plot(range(2,len(sh_score)),sh_score[2:])\n",
    "plt.xlabel('Number of clusters')\n",
    "plt.ylabel('silhouette score')"
   ]
  },
  {
   "cell_type": "code",
   "execution_count": 750,
   "id": "2f20ae1c-167c-4594-9b74-c617f2650a0a",
   "metadata": {},
   "outputs": [
    {
     "data": {
      "image/png": "[encoded data removed]",
      "text/plain": [
       "<Figure size 432x288 with 2 Axes>"
      ]
     },
     "metadata": {
      "needs_background": "light"
     },
     "output_type": "display_data"
    }
   ],
   "source": [
    "fig, ax1 = plt.subplots()\n",
    "\n",
    "color = 'tab:red'\n",
    "ax1.set_xlabel('number of clusters')\n",
    "ax1.set_ylabel('silhoutte score', color=color)\n",
    "ax1.plot(range(2,len(sh_score)),sh_score[2:], color=color)\n",
    "ax1.tick_params(axis='y', labelcolor=color)\n",
    "\n",
    "ax2 = ax1.twinx()  # instantiate a second axes that shares the same x-axis\n",
    "\n",
    "color = 'tab:blue'\n",
    "ax2.set_ylabel('SSE', color=color)  # we already handled the x-label with ax1\n",
    "ax2.plot(range(2,len(error)),error[2:], color=color)\n",
    "ax2.tick_params(axis='y', labelcolor=color)\n",
    "\n",
    "fig.tight_layout() "
   ]
  },
  {
   "cell_type": "markdown",
   "id": "ae001818-7337-47a6-b332-e264b6ab39be",
   "metadata": {},
   "source": [
    "Ως καλύτερος αριθμός cluster φαίνεται να είναι ο 4, καθώς έχει το υψηλότερο silhouette score στα k όπου το SSE αρχίζει να πέφτει (πέρα από το k=2 που έχει μεγάλο SSE). Έτσι θα μπορούσαμε να πούμε ότι οι χρήστες χωρίζονται επαρκώς σε 4 ομάδες βάση βαθμολογιών στα αστεία."
   ]
  },
  {
   "cell_type": "code",
   "execution_count": 758,
   "id": "252dbf47-4661-48e2-84a4-61b5e5598060",
   "metadata": {},
   "outputs": [
    {
     "name": "stdout",
     "output_type": "stream",
     "text": [
      "The total error of the clustering is:  27008936.45798815\n",
      "\n",
      "Cluster labels\n",
      "[0 2 3 ... 3 3 1]\n",
      "\n",
      " Cluster Centroids\n",
      "[[-1.61998705e-02 -1.28094560e+00  6.48827720e-02 -5.81742228e-02\n",
      "  -7.71117098e-01 -9.82476943e-01  1.15826801e+00  6.26526554e-01\n",
      "   1.35920052e+00  2.89805699e-03  1.34475130e+00  3.08035622e-01\n",
      "   2.25691580e-01 -2.11129922e-01  4.11289119e-01  8.98801554e-01\n",
      "   3.51363990e-02  1.00973977e+00  1.84423005e+00  1.43939249e-01\n",
      "   2.03248705e-02  3.20140557e+00 -4.53914508e-02  4.00044430e-01\n",
      "   3.34112642e+00  1.88872163e+00  1.15110104e-02  6.44222409e-01\n",
      "   6.51829016e-01  4.20026554e-01 -6.90746114e-02  6.54553627e-01\n",
      "   2.73225389e-03 -2.29850000e-01  5.02756606e-01  5.41258290e-01\n",
      "   2.08461386e+00  1.37547759e+00  2.07908355e+00  2.15588756e+00\n",
      "   8.70077720e-04  4.30310881e-03  3.35801464e+00  2.16380855e+00\n",
      "   3.93961140e-02  1.42660427e+00 -1.21768912e-01 -3.05176295e-01\n",
      "   2.66102591e-01  1.34561399e-01  2.08344560e-02  2.41590907e+00\n",
      "   1.74201295e+00 -5.66012953e-02  1.05775285e+00  2.24725699e+00\n",
      "  -7.70834197e-02  2.33831464e+00  2.70255505e+00  5.61371891e-01\n",
      "   2.11350777e-01  3.13664145e+00  1.51792746e-02 -1.68419301e-01\n",
      "  -2.88766321e-01  2.26062772e+00  3.79658679e-01  8.26172409e-01\n",
      "  -6.15971503e-03  2.07006477e-02  8.41102720e-01  3.26199482e-01\n",
      "   8.31829793e-01  6.50371244e-01  1.19431347e-02  3.35207772e-01\n",
      "   1.17585168e+00  8.96248316e-01  3.44681528e+00  3.53196114e-01\n",
      "   9.81105699e-01  1.01576347e+00  1.93742409e+00  5.67942876e-01\n",
      "   4.04832642e-01  1.10890842e+00  1.86344430e+00  7.42211399e-01\n",
      "   5.58051813e-01  5.48445596e-03 -1.09601813e-01  2.86316451e-01\n",
      "   6.81111399e-02  2.78428484e+00  3.30492345e+00  2.97686982e+00\n",
      "   1.29478316e+00  2.62261528e+00  1.00110376e+00  1.38709780e+00\n",
      "   1.73620246e+00  1.21198368e+00  5.41214637e-01  3.11275246e+00\n",
      "   7.97125648e-01  1.11882124e-02  2.80888484e+00  1.05267085e+00\n",
      "   2.11267668e+00  9.55911010e-01  1.29169093e+00  1.13986218e+00\n",
      "  -4.27862694e-03 -3.57367228e-01  1.20116282e+00  2.28220013e+00\n",
      "   2.79285492e+00  1.41881412e+00  3.17452163e+00  8.22995984e-01\n",
      "   2.63969430e-01  1.85792578e+00  6.07714637e-01  2.42987811e+00\n",
      "   8.66196762e-01  9.14148964e-02  6.29430829e-01  1.92382992e+00\n",
      "   8.26654016e-01  1.23580311e-01 -3.92109974e-01  6.67200777e-01\n",
      "   2.14179858e+00  7.97221632e-01  1.68781736e+00 -3.14373057e-02\n",
      "   8.95233938e-01  2.27275168e+00  1.26619611e+00]\n",
      " [ 1.30742166e-02 -5.83473887e-01  1.05723474e+00  8.87566795e-01\n",
      "  -1.25206157e-02  7.40780649e-02  2.56339747e+00  1.61896317e+00\n",
      "   2.39240792e+00  3.27960418e-02  3.94745959e+00  2.79993953e+00\n",
      "   2.52690764e+00  8.72191864e-01  3.13092798e+00  3.64400880e+00\n",
      "   1.15550302e-01  3.60347224e+00  4.16290214e+00  2.61078395e+00\n",
      "   1.13317757e-01  4.45180759e+00  1.59947334e+00  2.98709786e+00\n",
      "   4.43130786e+00  4.21637383e+00  1.76290159e+00  3.05282903e+00\n",
      "   3.68789940e+00  2.73419351e+00  2.34933150e+00  3.50689610e+00\n",
      "   4.91506322e-02  8.23723474e-01  2.65171633e+00  3.12267015e+00\n",
      "   4.19176306e+00  4.20762232e+00  4.00751897e+00  4.41710940e+00\n",
      "   3.94117647e-02  1.93787795e-02  4.50153766e+00  3.97559098e+00\n",
      "   2.10872018e+00  4.21590324e+00  1.08332325e+00  5.60493678e-01\n",
      "   2.96457889e+00  1.99828587e+00  9.88873007e-02  4.45673667e+00\n",
      "   4.23302034e+00  1.51036778e+00  3.89795107e+00  3.88402309e+00\n",
      "   1.89401209e+00  4.40416053e+00  4.33867894e+00  3.26447389e+00\n",
      "   2.37394557e+00  4.67969324e+00  6.35832875e-02  1.40240517e+00\n",
      "   1.38602749e+00  4.00325783e+00  3.24065970e+00  3.67135844e+00\n",
      "   2.12322155e+00  1.00278175e-01  3.44623749e+00  3.06262507e+00\n",
      "   3.64938648e+00  3.53800990e+00  2.04263716e+00  2.48108026e+00\n",
      "   3.90465695e+00  3.74620396e+00  4.42702199e+00  3.05902639e+00\n",
      "   3.42458329e+00  3.87590544e+00  4.30469049e+00  3.01660638e+00\n",
      "   2.93122705e+00  4.07791589e+00  4.22321935e+00  3.49833095e+00\n",
      "   3.59489115e+00  4.14887301e-02  1.30706707e+00  2.92058164e+00\n",
      "   2.54349698e+00  4.07972842e+00  4.35636009e+00  4.28512754e+00\n",
      "   4.01360088e+00  4.32037108e+00  3.72857394e+00  4.18805058e+00\n",
      "   4.39752941e+00  4.10043046e+00  3.31339032e+00  4.18745904e+00\n",
      "   3.39881803e+00  5.02330951e-02  4.11572457e+00  3.90780979e+00\n",
      "   4.23385322e+00  3.84611765e+00  3.73583452e+00  3.50052172e+00\n",
      "   1.41881034e+00  3.17791644e-01  3.98741231e+00  4.49194667e+00\n",
      "   4.73672292e+00  3.59494887e+00  4.30789555e+00  3.07634964e+00\n",
      "   2.31707422e+00  4.14719626e+00  2.91750412e+00  4.28816438e+00\n",
      "   3.65058879e+00  2.52455140e+00  3.48325893e+00  3.82797196e+00\n",
      "   3.29047169e+00  1.95872512e+00  2.29332600e-01  3.36572622e+00\n",
      "   3.93971028e+00  3.07298296e+00  3.69197361e+00  1.96927048e+00\n",
      "   3.78273172e+00  4.43534415e+00  3.90588675e+00]\n",
      " [-1.60984307e-02 -3.62645326e-02  6.64988530e-01  8.32240290e-01\n",
      "   3.50784214e-01  2.96265836e-01  1.39592534e+00  1.06104249e+00\n",
      "   1.46914546e+00  1.04577968e-02  3.56158490e-01  3.68755539e-02\n",
      "   1.70570877e-02 -1.95212450e-02  3.20409781e-02  1.68011835e-01\n",
      "   1.53665607e-02  8.49964027e-02  4.26376049e-01 -9.54230749e-03\n",
      "   2.34773995e-03  9.13749335e-01 -2.11776758e-02 -8.18002190e-03\n",
      "   6.40144309e-01  4.30434180e-01 -1.91583338e-02  9.35703039e-02\n",
      "   5.06771805e-02  4.15400136e-02 -7.45701475e-03  3.60994213e-02\n",
      "   1.02617173e-03 -4.37714405e-03  5.85324540e-02  4.06137845e-02\n",
      "   3.50656692e-01  1.75322350e-01  3.43798499e-01  5.82151504e-01\n",
      "  -1.80678797e-03  4.36838538e-04  9.73947761e-01  4.75742818e-01\n",
      "  -1.21501486e-02  2.13818831e-01  2.24795370e-03 -2.41231948e-02\n",
      "   1.42849695e-04  6.43115583e-02  6.71132892e-04  5.20628956e-01\n",
      "   2.94959908e-01 -8.36437099e-03  2.22187634e-01  3.26278609e-01\n",
      "  -1.93923674e-02  4.89187999e-01  4.54423023e-01  3.64248475e-02\n",
      "  -6.92419582e-03  5.34757885e-01  2.63927845e-03 -2.57127366e-02\n",
      "  -4.14452844e-02  2.53639956e-01  2.88664825e-02  1.45352849e-01\n",
      "  -3.58997445e-02  7.85464783e-04  1.32920911e-01  4.18450550e-03\n",
      "   1.74281216e-01  5.23194828e-02 -2.65503363e-02  7.06721756e-02\n",
      "   2.50272144e-01  1.46566915e-01  1.18281325e+00  3.18377561e-02\n",
      "   1.23726813e-01  1.00902873e-01  2.76925082e-01  1.17767739e-01\n",
      "   4.72970648e-02  1.11744487e-01  3.71007142e-01  1.26536990e-01\n",
      "   6.80634482e-02  2.17334863e-03  6.71935770e-03  6.83572285e-03\n",
      "   1.13882488e-02  7.55159794e-01  9.07518847e-01  8.52348626e-01\n",
      "   1.95783536e-01  3.79451853e-01  5.79497941e-02  1.37500756e-01\n",
      "   3.15675408e-01  1.28483499e-01  4.24458579e-02  1.04992435e+00\n",
      "   1.31815859e-02  1.26103957e-03  4.31890412e-01  1.28280590e-01\n",
      "   4.49509984e-01  3.15631093e-02  2.60750430e-01  1.38344351e-01\n",
      "  -3.00640217e-02 -4.31419113e-02  2.71812210e-01  5.06193264e-01\n",
      "   5.69398519e-01  6.79211720e-02  5.99022992e-01  8.46983995e-02\n",
      "  -3.13195350e-03  6.11232887e-01  5.96071633e-02  3.51079506e-01\n",
      "   1.12347792e-01 -2.17527240e-02  4.27252489e-02  5.15298837e-01\n",
      "   1.12796309e-01  9.11735572e-03 -7.42583286e-02  1.29652469e-01\n",
      "   2.19527032e-01  1.12560868e-01  1.05898806e-01 -2.79621500e-02\n",
      "   4.38010531e-02  3.12802356e-01  1.26046504e-01]\n",
      " [-3.67983200e-02 -3.36262604e+00 -2.74541818e+00 -2.76435658e+00\n",
      "  -3.22588537e+00 -3.48132875e+00 -1.74789187e+00 -2.49559499e+00\n",
      "  -1.84462843e+00 -3.91455159e-02 -8.78838014e-02 -1.75080376e-01\n",
      "  -1.87286173e-01 -2.13285432e-01 -2.05076093e-01 -1.17032200e-01\n",
      "  -3.82961377e-03 -1.79686815e-01 -5.26628510e-02 -1.57934942e-01\n",
      "  -5.73622663e-03  1.66775756e-01 -2.00182821e-01 -3.03629828e-01\n",
      "   1.55932801e-01  3.47364737e-02 -2.28208350e-01 -1.65527382e-01\n",
      "  -2.27427242e-01 -1.85428230e-01 -2.54625299e-01 -2.15094787e-01\n",
      "  -8.82195504e-03 -2.30916248e-01 -2.10386478e-01 -2.18874578e-01\n",
      "  -3.47660380e-02 -1.15928024e-01 -5.81996212e-02 -1.29006835e-02\n",
      "  -1.13903483e-02 -6.28444371e-03  3.47476406e-01 -7.22753850e-03\n",
      "  -2.21442395e-01 -1.61610310e-01 -2.37394054e-01 -2.50458206e-01\n",
      "  -1.81784320e-01 -1.54365972e-01 -7.17260973e-03 -2.00431524e-02\n",
      "  -8.82671498e-02 -2.10522441e-01 -1.54685251e-01 -1.34281808e-01\n",
      "  -2.28406160e-01 -3.00718109e-02 -3.36328749e-02 -1.61121469e-01\n",
      "  -1.65138351e-01  1.54304785e-01 -5.04908178e-03 -2.19053858e-01\n",
      "  -2.34519970e-01  1.07893437e-02 -1.71412336e-01 -1.61322161e-01\n",
      "  -1.88735156e-01 -3.37107799e-03 -1.47188833e-01 -1.86425595e-01\n",
      "  -1.32935601e-01 -1.54802520e-01 -1.99693321e-01 -1.36698921e-01\n",
      "  -1.86143704e-01 -1.67530264e-01  3.59938401e-01 -1.59960306e-01\n",
      "  -1.87372725e-01 -2.48844355e-01 -7.22830437e-02 -1.25809190e-01\n",
      "  -2.21236185e-01 -1.73687474e-01 -9.18436960e-02 -1.30547394e-01\n",
      "  -1.38275303e-01 -3.39701886e-03 -2.16401219e-01 -2.03019353e-01\n",
      "  -1.80567570e-01  1.29254385e-01  2.32967389e-01  1.00024541e-01\n",
      "  -1.39628510e-01  1.00272750e-01 -1.58576711e-01 -9.69654945e-02\n",
      "  -5.06894507e-02 -1.58244009e-01 -1.87259409e-01  2.66341267e-01\n",
      "  -2.51216009e-01 -3.15498641e-03  1.34403113e-01 -2.08211068e-01\n",
      "   1.01934530e-01 -2.29319032e-01 -8.23383019e-02 -1.06863296e-01\n",
      "  -2.25731615e-01 -2.50854566e-01 -1.25526806e-01 -3.24737709e-02\n",
      "   1.83846661e-01 -1.09461418e-01  2.09698427e-01 -2.17288397e-01\n",
      "  -2.34580664e-01  9.23508194e-02 -2.27649263e-01  3.32275385e-02\n",
      "  -1.88488265e-01 -2.33131022e-01 -1.88359631e-01 -4.72571029e-02\n",
      "  -2.11028741e-01 -2.03084493e-01 -2.84981553e-01 -1.58658486e-01\n",
      "  -7.11115046e-02 -1.87886684e-01 -9.76715803e-02 -1.90733921e-01\n",
      "  -2.21067364e-01 -8.85007823e-02 -1.25432595e-01]]\n"
     ]
    }
   ],
   "source": [
    "# run for best cluster number\n",
    "kmeans = KMeans(n_clusters=4)\n",
    "kmeans.fit_predict(R.toarray())\n",
    "\n",
    "centroids = kmeans.cluster_centers_\n",
    "kmeans_labels = kmeans.labels_\n",
    "error = kmeans.inertia_\n",
    "\n",
    "print (\"The total error of the clustering is: \", error)\n",
    "print ('\\nCluster labels')\n",
    "print(kmeans_labels)\n",
    "print ('\\n Cluster Centroids')\n",
    "print (centroids)"
   ]
  },
  {
   "cell_type": "code",
   "execution_count": 759,
   "id": "5c871167-b388-442e-8c4c-311877405d72",
   "metadata": {},
   "outputs": [
    {
     "data": {
      "text/html": [
       "<div>\n",
       "<style scoped>\n",
       "    .dataframe tbody tr th:only-of-type {\n",
       "        vertical-align: middle;\n",
       "    }\n",
       "\n",
       "    .dataframe tbody tr th {\n",
       "        vertical-align: top;\n",
       "    }\n",
       "\n",
       "    .dataframe thead th {\n",
       "        text-align: right;\n",
       "    }\n",
       "</style>\n",
       "<table border=\"1\" class=\"dataframe\">\n",
       "  <thead>\n",
       "    <tr style=\"text-align: right;\">\n",
       "      <th></th>\n",
       "      <th>index</th>\n",
       "      <th>id</th>\n",
       "      <th>user_id</th>\n",
       "      <th>joke_id</th>\n",
       "      <th>Rating</th>\n",
       "    </tr>\n",
       "  </thead>\n",
       "  <tbody>\n",
       "    <tr>\n",
       "      <th>0</th>\n",
       "      <td>948837</td>\n",
       "      <td>39893_22</td>\n",
       "      <td>39892</td>\n",
       "      <td>21</td>\n",
       "      <td>-0.281</td>\n",
       "    </tr>\n",
       "    <tr>\n",
       "      <th>1</th>\n",
       "      <td>502194</td>\n",
       "      <td>25778_7</td>\n",
       "      <td>25777</td>\n",
       "      <td>6</td>\n",
       "      <td>-7.031</td>\n",
       "    </tr>\n",
       "    <tr>\n",
       "      <th>2</th>\n",
       "      <td>727692</td>\n",
       "      <td>24147_76</td>\n",
       "      <td>24146</td>\n",
       "      <td>75</td>\n",
       "      <td>5.750</td>\n",
       "    </tr>\n",
       "    <tr>\n",
       "      <th>3</th>\n",
       "      <td>155191</td>\n",
       "      <td>4374_9</td>\n",
       "      <td>4373</td>\n",
       "      <td>8</td>\n",
       "      <td>-4.125</td>\n",
       "    </tr>\n",
       "    <tr>\n",
       "      <th>4</th>\n",
       "      <td>897456</td>\n",
       "      <td>18377_120</td>\n",
       "      <td>18376</td>\n",
       "      <td>119</td>\n",
       "      <td>-2.500</td>\n",
       "    </tr>\n",
       "  </tbody>\n",
       "</table>\n",
       "</div>"
      ],
      "text/plain": [
       "    index         id  user_id  joke_id  Rating\n",
       "0  948837   39893_22    39892       21  -0.281\n",
       "1  502194    25778_7    25777        6  -7.031\n",
       "2  727692   24147_76    24146       75   5.750\n",
       "3  155191     4374_9     4373        8  -4.125\n",
       "4  897456  18377_120    18376      119  -2.500"
      ]
     },
     "execution_count": 759,
     "metadata": {},
     "output_type": "execute_result"
    }
   ],
   "source": [
    "testdata_new = testdata[['index','id','user_id','joke_id','Rating']].copy()\n",
    "testdata_new.head()"
   ]
  },
  {
   "cell_type": "code",
   "execution_count": 785,
   "id": "6dd89a32-30ea-43e1-bfe5-cfef308cb6d4",
   "metadata": {},
   "outputs": [
    {
     "data": {
      "text/plain": [
       "array([3.20140557, 4.45180759, 0.91374934, 0.16677576])"
      ]
     },
     "execution_count": 785,
     "metadata": {},
     "output_type": "execute_result"
    }
   ],
   "source": [
    "centroids[:,testdata_new.joke_id[0]]"
   ]
  },
  {
   "cell_type": "code",
   "execution_count": 786,
   "id": "7a039895-596b-4247-be1c-ca42fc27f1da",
   "metadata": {},
   "outputs": [
    {
     "data": {
      "text/plain": [
       "3"
      ]
     },
     "execution_count": 786,
     "metadata": {},
     "output_type": "execute_result"
    }
   ],
   "source": [
    "np.argmin(centroids[:,testdata_new.joke_id[0]])"
   ]
  },
  {
   "cell_type": "code",
   "execution_count": 772,
   "id": "9a732d7f-c0e7-46ed-af46-28cbf038e46c",
   "metadata": {},
   "outputs": [
    {
     "data": {
      "text/plain": [
       "2"
      ]
     },
     "execution_count": 772,
     "metadata": {},
     "output_type": "execute_result"
    }
   ],
   "source": [
    "kmeans_labels[testdata_new.user_id[0]]"
   ]
  },
  {
   "cell_type": "code",
   "execution_count": 773,
   "id": "ff2af94b-5851-4dbe-b0c2-9bb2d10e9953",
   "metadata": {},
   "outputs": [
    {
     "data": {
      "text/plain": [
       "0.9137493352796977"
      ]
     },
     "execution_count": 773,
     "metadata": {},
     "output_type": "execute_result"
    }
   ],
   "source": [
    "centroids[kmeans_labels[testdata_new.user_id[0]],testdata_new.joke_id[0]]"
   ]
  },
  {
   "cell_type": "code",
   "execution_count": 787,
   "id": "6cd5813e-a916-4c5d-8f7b-5658763edc15",
   "metadata": {},
   "outputs": [],
   "source": [
    "def p_calc(user, joke):\n",
    "    p = centroids[kmeans_labels[user],joke]\n",
    "    return p"
   ]
  },
  {
   "cell_type": "code",
   "execution_count": 789,
   "id": "0e2c095b-34a7-4e76-9da1-414dc3f00a3f",
   "metadata": {},
   "outputs": [],
   "source": [
    "testdata_new['predicted'] = testdata_new[['user_id','joke_id']].apply(lambda x: p_calc(x.user_id, x.joke_id), axis=1)"
   ]
  },
  {
   "cell_type": "code",
   "execution_count": 790,
   "id": "5a412d38-4f4c-4683-b126-bac5953d9adc",
   "metadata": {},
   "outputs": [
    {
     "data": {
      "text/html": [
       "<div>\n",
       "<style scoped>\n",
       "    .dataframe tbody tr th:only-of-type {\n",
       "        vertical-align: middle;\n",
       "    }\n",
       "\n",
       "    .dataframe tbody tr th {\n",
       "        vertical-align: top;\n",
       "    }\n",
       "\n",
       "    .dataframe thead th {\n",
       "        text-align: right;\n",
       "    }\n",
       "</style>\n",
       "<table border=\"1\" class=\"dataframe\">\n",
       "  <thead>\n",
       "    <tr style=\"text-align: right;\">\n",
       "      <th></th>\n",
       "      <th>index</th>\n",
       "      <th>id</th>\n",
       "      <th>user_id</th>\n",
       "      <th>joke_id</th>\n",
       "      <th>Rating</th>\n",
       "      <th>predicted</th>\n",
       "    </tr>\n",
       "  </thead>\n",
       "  <tbody>\n",
       "    <tr>\n",
       "      <th>0</th>\n",
       "      <td>948837</td>\n",
       "      <td>39893_22</td>\n",
       "      <td>39892</td>\n",
       "      <td>21</td>\n",
       "      <td>-0.281</td>\n",
       "      <td>0.913749</td>\n",
       "    </tr>\n",
       "    <tr>\n",
       "      <th>1</th>\n",
       "      <td>502194</td>\n",
       "      <td>25778_7</td>\n",
       "      <td>25777</td>\n",
       "      <td>6</td>\n",
       "      <td>-7.031</td>\n",
       "      <td>-1.747892</td>\n",
       "    </tr>\n",
       "    <tr>\n",
       "      <th>2</th>\n",
       "      <td>727692</td>\n",
       "      <td>24147_76</td>\n",
       "      <td>24146</td>\n",
       "      <td>75</td>\n",
       "      <td>5.750</td>\n",
       "      <td>0.335208</td>\n",
       "    </tr>\n",
       "    <tr>\n",
       "      <th>3</th>\n",
       "      <td>155191</td>\n",
       "      <td>4374_9</td>\n",
       "      <td>4373</td>\n",
       "      <td>8</td>\n",
       "      <td>-4.125</td>\n",
       "      <td>2.392408</td>\n",
       "    </tr>\n",
       "    <tr>\n",
       "      <th>4</th>\n",
       "      <td>897456</td>\n",
       "      <td>18377_120</td>\n",
       "      <td>18376</td>\n",
       "      <td>119</td>\n",
       "      <td>-2.500</td>\n",
       "      <td>0.084698</td>\n",
       "    </tr>\n",
       "    <tr>\n",
       "      <th>...</th>\n",
       "      <td>...</td>\n",
       "      <td>...</td>\n",
       "      <td>...</td>\n",
       "      <td>...</td>\n",
       "      <td>...</td>\n",
       "      <td>...</td>\n",
       "    </tr>\n",
       "    <tr>\n",
       "      <th>9995</th>\n",
       "      <td>588150</td>\n",
       "      <td>24968_123</td>\n",
       "      <td>24967</td>\n",
       "      <td>122</td>\n",
       "      <td>4.312</td>\n",
       "      <td>2.917504</td>\n",
       "    </tr>\n",
       "    <tr>\n",
       "      <th>9996</th>\n",
       "      <td>376437</td>\n",
       "      <td>27371_3</td>\n",
       "      <td>27370</td>\n",
       "      <td>2</td>\n",
       "      <td>-4.188</td>\n",
       "      <td>0.064883</td>\n",
       "    </tr>\n",
       "    <tr>\n",
       "      <th>9997</th>\n",
       "      <td>393810</td>\n",
       "      <td>23050_50</td>\n",
       "      <td>23049</td>\n",
       "      <td>49</td>\n",
       "      <td>-0.969</td>\n",
       "      <td>0.134561</td>\n",
       "    </tr>\n",
       "    <tr>\n",
       "      <th>9998</th>\n",
       "      <td>97076</td>\n",
       "      <td>247_9</td>\n",
       "      <td>246</td>\n",
       "      <td>8</td>\n",
       "      <td>6.312</td>\n",
       "      <td>1.359201</td>\n",
       "    </tr>\n",
       "    <tr>\n",
       "      <th>9999</th>\n",
       "      <td>301838</td>\n",
       "      <td>22218_73</td>\n",
       "      <td>22217</td>\n",
       "      <td>72</td>\n",
       "      <td>2.688</td>\n",
       "      <td>0.831830</td>\n",
       "    </tr>\n",
       "  </tbody>\n",
       "</table>\n",
       "<p>10000 rows × 6 columns</p>\n",
       "</div>"
      ],
      "text/plain": [
       "       index         id  user_id  joke_id  Rating  predicted\n",
       "0     948837   39893_22    39892       21  -0.281   0.913749\n",
       "1     502194    25778_7    25777        6  -7.031  -1.747892\n",
       "2     727692   24147_76    24146       75   5.750   0.335208\n",
       "3     155191     4374_9     4373        8  -4.125   2.392408\n",
       "4     897456  18377_120    18376      119  -2.500   0.084698\n",
       "...      ...        ...      ...      ...     ...        ...\n",
       "9995  588150  24968_123    24967      122   4.312   2.917504\n",
       "9996  376437    27371_3    27370        2  -4.188   0.064883\n",
       "9997  393810   23050_50    23049       49  -0.969   0.134561\n",
       "9998   97076      247_9      246        8   6.312   1.359201\n",
       "9999  301838   22218_73    22217       72   2.688   0.831830\n",
       "\n",
       "[10000 rows x 6 columns]"
      ]
     },
     "execution_count": 790,
     "metadata": {},
     "output_type": "execute_result"
    }
   ],
   "source": [
    "testdata_new"
   ]
  },
  {
   "cell_type": "code",
   "execution_count": 791,
   "id": "00a77bf5-5f39-48d4-8114-8f54fa6cf620",
   "metadata": {},
   "outputs": [
    {
     "name": "stdout",
     "output_type": "stream",
     "text": [
      "Best RMSE for k=4:  4.634031834770969\n"
     ]
    }
   ],
   "source": [
    "kmeans_rmse = mean_squared_error(y_true=testdata_new.Rating,y_pred=testdata_new.predicted,squared=False)\n",
    "print('Best RMSE for k=4: ',best_rmse)"
   ]
  },
  {
   "cell_type": "markdown",
   "id": "2556f950-066a-4233-81d4-1fe9fff80f3c",
   "metadata": {},
   "source": [
    "To RMSE του kmeans είναι κοντά στα RMSE των προηγούμενων αλγορίθμων της ερώτησης 3."
   ]
  },
  {
   "cell_type": "code",
   "execution_count": null,
   "id": "73a0e662-77a4-492e-a7d8-a2be2b00c1ef",
   "metadata": {},
   "outputs": [],
   "source": []
  }
 ],
 "metadata": {
  "kernelspec": {
   "display_name": "Python 3",
   "language": "python",
   "name": "python3"
  },
  "language_info": {
   "codemirror_mode": {
    "name": "ipython",
    "version": 3
   },
   "file_extension": ".py",
   "mimetype": "text/x-python",
   "name": "python",
   "nbconvert_exporter": "python",
   "pygments_lexer": "ipython3",
   "version": "3.8.8"
  }
 },
 "nbformat": 4,
 "nbformat_minor": 5
}
